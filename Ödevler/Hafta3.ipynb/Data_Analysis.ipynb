{
 "cells": [
  {
   "cell_type": "markdown",
   "id": "fcd1739c",
   "metadata": {},
   "source": [
    "**Veriseti :**\n",
    "Titanic veri seti üzerinden soruları çözeceğiz. Aşağıdaki tabloda sütunların açıklamaları mevcut.\n",
    "Link: https://www.kaggle.com/c/titanic/data\n"
   ]
  },
  {
   "cell_type": "code",
   "execution_count": 1,
   "id": "6db0e16d",
   "metadata": {},
   "outputs": [],
   "source": [
    "#Import the libraries\n",
    "import pandas as pd \n",
    "import numpy as np\n",
    "import matplotlib.pyplot as plt\n",
    "import seaborn as sns"
   ]
  },
  {
   "cell_type": "code",
   "execution_count": 2,
   "id": "5af65420",
   "metadata": {},
   "outputs": [],
   "source": [
    "#import the dataset\n",
    "df=pd.read_csv(r\"C:\\Users\\nilay\\Documents\\GitHub\\Patika_VeriAnalizi_Bootcamp\\Ödevler\\Hafta3.ipynb\\Titanic_dataset.csv\")"
   ]
  },
  {
   "cell_type": "code",
   "execution_count": 4,
   "id": "d1d186c1",
   "metadata": {},
   "outputs": [
    {
     "data": {
      "text/plain": [
       "Index(['PassengerId', 'Survived', 'Pclass', 'Name', 'Sex', 'Age', 'SibSp',\n",
       "       'Parch', 'Ticket', 'Fare', 'Cabin', 'Embarked'],\n",
       "      dtype='object')"
      ]
     },
     "execution_count": 4,
     "metadata": {},
     "output_type": "execute_result"
    }
   ],
   "source": [
    "df.columns"
   ]
  },
  {
   "cell_type": "code",
   "execution_count": null,
   "id": "ebcf283d",
   "metadata": {},
   "outputs": [
    {
     "data": {
      "text/html": [
       "<div>\n",
       "<style scoped>\n",
       "    .dataframe tbody tr th:only-of-type {\n",
       "        vertical-align: middle;\n",
       "    }\n",
       "\n",
       "    .dataframe tbody tr th {\n",
       "        vertical-align: top;\n",
       "    }\n",
       "\n",
       "    .dataframe thead th {\n",
       "        text-align: right;\n",
       "    }\n",
       "</style>\n",
       "<table border=\"1\" class=\"dataframe\">\n",
       "  <thead>\n",
       "    <tr style=\"text-align: right;\">\n",
       "      <th></th>\n",
       "      <th>PassengerId</th>\n",
       "      <th>Survived</th>\n",
       "      <th>Pclass</th>\n",
       "      <th>Name</th>\n",
       "      <th>Sex</th>\n",
       "      <th>Age</th>\n",
       "      <th>SibSp</th>\n",
       "      <th>Parch</th>\n",
       "      <th>Ticket</th>\n",
       "      <th>Fare</th>\n",
       "      <th>Cabin</th>\n",
       "      <th>Embarked</th>\n",
       "    </tr>\n",
       "  </thead>\n",
       "  <tbody>\n",
       "    <tr>\n",
       "      <th>0</th>\n",
       "      <td>1</td>\n",
       "      <td>0</td>\n",
       "      <td>3</td>\n",
       "      <td>Braund, Mr. Owen Harris</td>\n",
       "      <td>male</td>\n",
       "      <td>22.0</td>\n",
       "      <td>1</td>\n",
       "      <td>0</td>\n",
       "      <td>A/5 21171</td>\n",
       "      <td>7.2500</td>\n",
       "      <td>NaN</td>\n",
       "      <td>S</td>\n",
       "    </tr>\n",
       "    <tr>\n",
       "      <th>1</th>\n",
       "      <td>2</td>\n",
       "      <td>1</td>\n",
       "      <td>1</td>\n",
       "      <td>Cumings, Mrs. John Bradley (Florence Briggs Th...</td>\n",
       "      <td>female</td>\n",
       "      <td>38.0</td>\n",
       "      <td>1</td>\n",
       "      <td>0</td>\n",
       "      <td>PC 17599</td>\n",
       "      <td>71.2833</td>\n",
       "      <td>C85</td>\n",
       "      <td>C</td>\n",
       "    </tr>\n",
       "    <tr>\n",
       "      <th>2</th>\n",
       "      <td>3</td>\n",
       "      <td>1</td>\n",
       "      <td>3</td>\n",
       "      <td>Heikkinen, Miss. Laina</td>\n",
       "      <td>female</td>\n",
       "      <td>26.0</td>\n",
       "      <td>0</td>\n",
       "      <td>0</td>\n",
       "      <td>STON/O2. 3101282</td>\n",
       "      <td>7.9250</td>\n",
       "      <td>NaN</td>\n",
       "      <td>S</td>\n",
       "    </tr>\n",
       "    <tr>\n",
       "      <th>3</th>\n",
       "      <td>4</td>\n",
       "      <td>1</td>\n",
       "      <td>1</td>\n",
       "      <td>Futrelle, Mrs. Jacques Heath (Lily May Peel)</td>\n",
       "      <td>female</td>\n",
       "      <td>35.0</td>\n",
       "      <td>1</td>\n",
       "      <td>0</td>\n",
       "      <td>113803</td>\n",
       "      <td>53.1000</td>\n",
       "      <td>C123</td>\n",
       "      <td>S</td>\n",
       "    </tr>\n",
       "    <tr>\n",
       "      <th>4</th>\n",
       "      <td>5</td>\n",
       "      <td>0</td>\n",
       "      <td>3</td>\n",
       "      <td>Allen, Mr. William Henry</td>\n",
       "      <td>male</td>\n",
       "      <td>35.0</td>\n",
       "      <td>0</td>\n",
       "      <td>0</td>\n",
       "      <td>373450</td>\n",
       "      <td>8.0500</td>\n",
       "      <td>NaN</td>\n",
       "      <td>S</td>\n",
       "    </tr>\n",
       "  </tbody>\n",
       "</table>\n",
       "</div>"
      ],
      "text/plain": [
       "   PassengerId  Survived  Pclass  \\\n",
       "0            1         0       3   \n",
       "1            2         1       1   \n",
       "2            3         1       3   \n",
       "3            4         1       1   \n",
       "4            5         0       3   \n",
       "\n",
       "                                                Name     Sex   Age  SibSp  \\\n",
       "0                            Braund, Mr. Owen Harris    male  22.0      1   \n",
       "1  Cumings, Mrs. John Bradley (Florence Briggs Th...  female  38.0      1   \n",
       "2                             Heikkinen, Miss. Laina  female  26.0      0   \n",
       "3       Futrelle, Mrs. Jacques Heath (Lily May Peel)  female  35.0      1   \n",
       "4                           Allen, Mr. William Henry    male  35.0      0   \n",
       "\n",
       "   Parch            Ticket     Fare Cabin Embarked  \n",
       "0      0         A/5 21171   7.2500   NaN        S  \n",
       "1      0          PC 17599  71.2833   C85        C  \n",
       "2      0  STON/O2. 3101282   7.9250   NaN        S  \n",
       "3      0            113803  53.1000  C123        S  \n",
       "4      0            373450   8.0500   NaN        S  "
      ]
     },
     "execution_count": 3,
     "metadata": {},
     "output_type": "execute_result"
    }
   ],
   "source": [
    "df.head()\n",
    "\"\"\"\n",
    "Pclass: first ,second , third \n",
    "pclass: A proxy for socio-economic status (SES)\n",
    "1st = Upper\n",
    "2nd = Middle\n",
    "3rd = Lower\n",
    "\n",
    "Survived: 0(No), 1(Yes)\n",
    "\n",
    "age: Age is fractional if less than 1. If the age is estimated, is it in the form of xx.5\n",
    "\n",
    "sibsp: The dataset defines family relations in this way... (akraba sayısı)\n",
    "\n",
    "Sibling = brother, sister, stepbrother, stepsister\n",
    "Spouse = husband, wife (mistresses and fiancés were ignored)\n",
    "\n",
    "parch: The dataset defines family relations in this way...\n",
    "Parent = mother, father\n",
    "Child = daughter, son, stepdaughter, stepson\n",
    "Some children travelled only with a nanny, therefore parch=0 for them.\n",
    "\n",
    "\"\"\""
   ]
  },
  {
   "cell_type": "markdown",
   "id": "9157c6e9",
   "metadata": {},
   "source": [
    "**Soru1 :Kazada ölenlerin yaş ortalamasını bulunuz**"
   ]
  },
  {
   "cell_type": "code",
   "execution_count": 9,
   "id": "c3e361a7",
   "metadata": {},
   "outputs": [
    {
     "data": {
      "text/plain": [
       "30.62617924528302"
      ]
     },
     "execution_count": 9,
     "metadata": {},
     "output_type": "execute_result"
    }
   ],
   "source": [
    "df_test = df[df[\"Survived\"] == 0].copy()\n",
    "df_test[\"Age\"].mean()"
   ]
  },
  {
   "cell_type": "markdown",
   "id": "66e63582",
   "metadata": {},
   "source": [
    "**Soru 2: Kazada ölenlerin bilet fiyatlarının ortalamasını ve medyanını bulunuz**"
   ]
  },
  {
   "cell_type": "code",
   "execution_count": 10,
   "id": "b328d3ef",
   "metadata": {},
   "outputs": [
    {
     "name": "stdout",
     "output_type": "stream",
     "text": [
      "Kazada ölen yolcuların bilet fiyatlarının ortalaması:  22.117886885245902\n",
      "Kazada ölen yolcuların bilet fiyatlarının medyanı:  10.5\n"
     ]
    }
   ],
   "source": [
    "df_test = df[df[\"Survived\"] == 0].copy()\n",
    "ortalama= df_test[\"Fare\"].mean()\n",
    "medyan=df_test[\"Fare\"].median()\n",
    "print(\"Kazada ölen yolcuların bilet fiyatlarının ortalaması: \",ortalama)  \n",
    "print(\"Kazada ölen yolcuların bilet fiyatlarının medyanı: \",medyan)"
   ]
  },
  {
   "cell_type": "markdown",
   "id": "f27c1548",
   "metadata": {},
   "source": [
    "**Soru 3: Kazada ölen erkeklerin yaş ortalamasını bulunuz**"
   ]
  },
  {
   "cell_type": "code",
   "execution_count": 18,
   "id": "75399b12",
   "metadata": {},
   "outputs": [
    {
     "data": {
      "text/plain": [
       "31.618055555555557"
      ]
     },
     "execution_count": 18,
     "metadata": {},
     "output_type": "execute_result"
    }
   ],
   "source": [
    "#Method 1 \n",
    "df_test = df[df[\"Survived\"] == 0].copy()\n",
    "df_test2= df_test[df_test[\"Sex\"]==\"male\"]\n",
    "df_test2[\"Age\"].mean()\n",
    "\n",
    "#Method 2 \n",
    "df.loc[(df[\"Survived\"] == 0) & (df[\"Sex\"] == \"male\"), \"Age\"].mean()"
   ]
  },
  {
   "cell_type": "markdown",
   "id": "463c1e4a",
   "metadata": {},
   "source": [
    "**Soru 4: Kazada ölen Kadınların yaş ortalamasını bulunuz**"
   ]
  },
  {
   "cell_type": "code",
   "execution_count": 19,
   "id": "64d0de4f",
   "metadata": {},
   "outputs": [
    {
     "data": {
      "text/plain": [
       "25.046875"
      ]
     },
     "execution_count": 19,
     "metadata": {},
     "output_type": "execute_result"
    }
   ],
   "source": [
    "#Method 2 \n",
    "df.loc[(df[\"Survived\"] == 0) & (df[\"Sex\"] == \"female\"), \"Age\"].mean()"
   ]
  },
  {
   "cell_type": "markdown",
   "id": "f3131b6e",
   "metadata": {},
   "source": [
    "**Soru 5: Kazadan kurtulanların yaş ortalamasını bulunuz**\n"
   ]
  },
  {
   "cell_type": "code",
   "execution_count": 22,
   "id": "ca38d18f",
   "metadata": {},
   "outputs": [
    {
     "data": {
      "text/plain": [
       "28.343689655172415"
      ]
     },
     "execution_count": 22,
     "metadata": {},
     "output_type": "execute_result"
    }
   ],
   "source": [
    "#Method 1\n",
    "#df.loc[(df[\"Survived\"] == 1), \"Age\"].mean()\n",
    "\n",
    "#Method 2 \n",
    "df_test=df[df[\"Survived\"] == 1].copy()\n",
    "df_test[\"Age\"].mean()\n"
   ]
  },
  {
   "cell_type": "markdown",
   "id": "bd80fcd3",
   "metadata": {},
   "source": [
    "**Soru 6: Kazadan kurtulanların bilet fiyatlarının ortalamasını bulunuz**\n"
   ]
  },
  {
   "cell_type": "code",
   "execution_count": 23,
   "id": "694d23b5",
   "metadata": {},
   "outputs": [
    {
     "name": "stdout",
     "output_type": "stream",
     "text": [
      "Kazada ölen yolcuların bilet fiyatlarının ortalaması:  48.39540760233918\n"
     ]
    }
   ],
   "source": [
    "df_test = df[df[\"Survived\"] == 1].copy()\n",
    "ortalama= df_test[\"Fare\"].mean()\n",
    "print(\"Kazada ölen yolcuların bilet fiyatlarının ortalaması: \",ortalama)  "
   ]
  },
  {
   "cell_type": "markdown",
   "id": "bb190cbb",
   "metadata": {},
   "source": [
    "**Soru 7: Kazadan kurtulan toplam kişi sayısını bulunuz… \n",
    "(tüyo: len(df_titanic[(df_titanic.Survived==1)]   kodu ile de bu sayıya ulaşabilirsiniz.)**"
   ]
  },
  {
   "cell_type": "code",
   "execution_count": 26,
   "id": "385c5943",
   "metadata": {},
   "outputs": [
    {
     "name": "stdout",
     "output_type": "stream",
     "text": [
      "Hayatta kalan yolcu sayısı:  342\n"
     ]
    },
    {
     "data": {
      "text/plain": [
       "Survived\n",
       "0    549\n",
       "1    342\n",
       "Name: count, dtype: int64"
      ]
     },
     "execution_count": 26,
     "metadata": {},
     "output_type": "execute_result"
    }
   ],
   "source": [
    "#Method 1 \n",
    "total=len(df[df[\"Survived\"] == 1])\n",
    "print(\"Hayatta kalan yolcu sayısı: \",total)\n",
    "\n",
    "#Method 2 \n",
    "df[\"Survived\"].value_counts()"
   ]
  },
  {
   "cell_type": "markdown",
   "id": "477f9216",
   "metadata": {},
   "source": [
    "**Soru 8: 10 yaşından küçüklerin bilet fiyatlarının medyan değerini bulunuz**"
   ]
  },
  {
   "cell_type": "code",
   "execution_count": 27,
   "id": "5316bb3a",
   "metadata": {},
   "outputs": [
    {
     "data": {
      "text/plain": [
       "30.576679032258067"
      ]
     },
     "execution_count": 27,
     "metadata": {},
     "output_type": "execute_result"
    }
   ],
   "source": [
    "df.loc[(df[\"Age\"] <10),\"Fare\"].mean()"
   ]
  },
  {
   "cell_type": "markdown",
   "id": "33c01409",
   "metadata": {},
   "source": [
    "**Soru 9 :1.sınıf, 2.sınıf ve 3.sınıf bilet fiyatlarının ortalama ve medyanlarını karşılaştırınız. (Pclass değişkeni sınıfları barındırmaktadır.)**"
   ]
  },
  {
   "cell_type": "code",
   "execution_count": 30,
   "id": "9ba3ba4a",
   "metadata": {},
   "outputs": [
    {
     "data": {
      "text/plain": [
       "Pclass\n",
       "3    491\n",
       "1    216\n",
       "2    184\n",
       "Name: count, dtype: int64"
      ]
     },
     "execution_count": 30,
     "metadata": {},
     "output_type": "execute_result"
    }
   ],
   "source": [
    "df[\"Pclass\"].value_counts()"
   ]
  },
  {
   "cell_type": "code",
   "execution_count": 32,
   "id": "3906b2c9",
   "metadata": {},
   "outputs": [
    {
     "name": "stdout",
     "output_type": "stream",
     "text": [
      "Pclass: 1, Ortalama bilet fiyatı: 84.15\n",
      "Pclass: 2, Ortalama bilet fiyatı: 20.66\n",
      "Pclass: 3, Ortalama bilet fiyatı: 13.68\n",
      "{1: 84.1546875, 2: 20.662183152173913, 3: 13.675550101832993}\n",
      "{1: 84.1546875, 2: 20.662183152173913, 3: 13.675550101832993}\n"
     ]
    }
   ],
   "source": [
    "#Method 1\n",
    "fare_dict = {}\n",
    "for pclass in sorted(df[\"Pclass\"].unique()):\n",
    "    value = df.loc[df[\"Pclass\"] == pclass, \"Fare\"].mean()\n",
    "    print(f\"Pclass: {pclass}, Ortalama bilet fiyatı: {value:.2f}\")\n",
    "    fare_dict[pclass] = value\n",
    "print(fare_dict)\n",
    "\n",
    "\n",
    "#Method 2\n",
    "fare_dict = df.groupby(\"Pclass\")[\"Fare\"].mean().to_dict()\n",
    "print(fare_dict)"
   ]
  },
  {
   "cell_type": "markdown",
   "id": "bdc4e544",
   "metadata": {},
   "source": [
    "**Soru 10 :Kazada ölen kadınların oranı ile erkeklerin oranını karşılaştırınız. (Örnek: erkekler için; ölen erkeklerin, erkek sayısına bölümü bu oranı vermektedir.**"
   ]
  },
  {
   "cell_type": "code",
   "execution_count": 36,
   "id": "eb72531c",
   "metadata": {},
   "outputs": [
    {
     "name": "stdout",
     "output_type": "stream",
     "text": [
      "Kadın ölüm oranı: 25.80%\n",
      "Erkek ölüm oranı: 81.11%\n"
     ]
    }
   ],
   "source": [
    "# Toplam kadın ve erkek sayısı\n",
    "total_female = df[df[\"Sex\"] == \"female\"].shape[0]\n",
    "total_male = df[df[\"Sex\"] == \"male\"].shape[0]\n",
    "\n",
    "# Ölen kadın ve erkek sayısı\n",
    "dead_female = df[(df[\"Sex\"] == \"female\") & (df[\"Survived\"] == 0)].shape[0]\n",
    "dead_male = df[(df[\"Sex\"] == \"male\") & (df[\"Survived\"] == 0)].shape[0]\n",
    "\n",
    "# Oranlar\n",
    "female_death_rate = dead_female / total_female\n",
    "male_death_rate = dead_male / total_male\n",
    "\n",
    "# Karşılaştırma\n",
    "print(f\"Kadın ölüm oranı: {female_death_rate:.2%}\")\n",
    "print(f\"Erkek ölüm oranı: {male_death_rate:.2%}\")\n"
   ]
  }
 ],
 "metadata": {
  "kernelspec": {
   "display_name": "Python 3",
   "language": "python",
   "name": "python3"
  },
  "language_info": {
   "codemirror_mode": {
    "name": "ipython",
    "version": 3
   },
   "file_extension": ".py",
   "mimetype": "text/x-python",
   "name": "python",
   "nbconvert_exporter": "python",
   "pygments_lexer": "ipython3",
   "version": "3.11.5"
  }
 },
 "nbformat": 4,
 "nbformat_minor": 5
}
