{
 "cells": [
  {
   "cell_type": "code",
   "execution_count": 1,
   "id": "f8f42fec",
   "metadata": {},
   "outputs": [],
   "source": [
    "# Import the libraries\n",
    "import pandas as pd\n",
    "import numpy as np\n"
   ]
  },
  {
   "cell_type": "markdown",
   "id": "56825213",
   "metadata": {},
   "source": [
    "Soru1 : Girilen  sayının negatif /pozitif/0 olduğunu yazınız."
   ]
  },
  {
   "cell_type": "code",
   "execution_count": 3,
   "id": "461f08d6",
   "metadata": {},
   "outputs": [
    {
     "name": "stdout",
     "output_type": "stream",
     "text": [
      "Sayı pozitif\n"
     ]
    }
   ],
   "source": [
    "sayı=input(\"Bir sayı giriniz:\")\n",
    "sayı=int(sayı)\n",
    "if sayı==0:\n",
    "  print(\"Sayı 0'dır\") \n",
    "elif sayı>0:\n",
    "  print(\"Sayı pozitif\")\n",
    "else:\n",
    "  print(\"Sayı negatif\")"
   ]
  },
  {
   "cell_type": "markdown",
   "id": "79f4b879",
   "metadata": {},
   "source": [
    "Soru2: Girilen sayının tek mi çift mi olduğunu söyleyen kod bloğu yazınız. "
   ]
  },
  {
   "cell_type": "code",
   "execution_count": 5,
   "id": "c6351ffe",
   "metadata": {},
   "outputs": [
    {
     "name": "stdout",
     "output_type": "stream",
     "text": [
      "Sayı çift\n"
     ]
    }
   ],
   "source": [
    "sayı=input(\"Bir sayı giriniz:\")\n",
    "sayı=int(sayı)\n",
    "if sayı%2==0:\n",
    "  print(\"Sayı çift\")\n",
    "else:\n",
    "  print(\"Sayı tek\")\n"
   ]
  },
  {
   "cell_type": "markdown",
   "id": "0e7ae663",
   "metadata": {},
   "source": [
    "Soru3: Girilen sayının not aralığı içinde hangi harfe karşılık geldiğini yazınız."
   ]
  },
  {
   "cell_type": "code",
   "execution_count": 8,
   "id": "6f86410c",
   "metadata": {},
   "outputs": [
    {
     "name": "stdout",
     "output_type": "stream",
     "text": [
      "BB\n"
     ]
    }
   ],
   "source": [
    "note=input(\"Bir not giriniz:\")\n",
    "note=int(note)\n",
    "\n",
    "if note>=80 and note<=100:\n",
    "  print(\"AA\")\n",
    "elif note>=60 and note<80:\n",
    "  print(\"BB\") \n",
    "elif note>=40 and note<60:\n",
    "  print(\"CC\")\n",
    "elif note<40:\n",
    "  print(\"FF\")\n"
   ]
  },
  {
   "cell_type": "markdown",
   "id": "966aadcb",
   "metadata": {},
   "source": [
    "Soru 4: Girilen ismin karakter sayısı 5 den büyükse \"İsminiz çok uzun\" yazınız. "
   ]
  },
  {
   "cell_type": "code",
   "execution_count": null,
   "id": "12e6dba6",
   "metadata": {},
   "outputs": [
    {
     "name": "stdout",
     "output_type": "stream",
     "text": [
      "A\n",
      "b\n",
      "u\n",
      "z\n",
      "e\n",
      "d\n",
      "d\n",
      "i\n",
      "n\n",
      "K\n",
      "a\n",
      "d\n",
      "a\n",
      "y\n",
      "ı\n",
      "Adınız uzun\n"
     ]
    }
   ],
   "source": [
    "name=input(\"Adınızı giriniz:\")\n",
    "total=0\n",
    "#Method 1 \n",
    "for i in name:\n",
    "  print(i)\n",
    "  total+=1\n",
    "\n",
    "if total>5:\n",
    "  print(\"Adınız uzun\")\n",
    "\n",
    "#Method 2\n",
    "total=len(name)\n",
    "if total>5:\n",
    "  print(\"Adınız uzun\")\n",
    "\n"
   ]
  },
  {
   "cell_type": "markdown",
   "id": "1eafbcdd",
   "metadata": {},
   "source": [
    "Soru 5: Girilen sayının asal sayı olup olmadığını bulan kod bloğunu yazınız."
   ]
  },
  {
   "cell_type": "code",
   "execution_count": 10,
   "id": "d1f70f79",
   "metadata": {},
   "outputs": [
    {
     "name": "stdout",
     "output_type": "stream",
     "text": [
      "Sayı asaldır\n"
     ]
    }
   ],
   "source": [
    "sayı=input(\"Bir sayı giriniz:\")\n",
    "sayı=int(sayı)\n",
    "\n",
    "# Asal sayılar: 2,3,5,7,9,11... 1\n",
    "# Koşullar: Kendi dışında başka bir sayı ile tam bölünemeyen sayılardır\n",
    "\n",
    "if sayı>1 :\n",
    "  for i in range(2,sayı):\n",
    "    if sayı%i==0:\n",
    "      print(\"Sayı asal değildir\")\n",
    "      break\n",
    "  else:\n",
    "    print(\"Sayı asaldır\")\n"
   ]
  },
  {
   "cell_type": "markdown",
   "id": "724261e5",
   "metadata": {},
   "source": [
    "Soru 6: notlar=[45,85,75,50] değerinin indisini yazdıran kod bloğunu yazınız."
   ]
  },
  {
   "cell_type": "code",
   "execution_count": 22,
   "id": "57186c6f",
   "metadata": {},
   "outputs": [
    {
     "name": "stdout",
     "output_type": "stream",
     "text": [
      "2\n"
     ]
    }
   ],
   "source": [
    "notlar=[45,85,75,50]\n",
    "\n",
    "print(notlar.index(75))"
   ]
  },
  {
   "cell_type": "markdown",
   "id": "9704b11b",
   "metadata": {},
   "source": [
    "Soru 7 : Girilen sayının faktöriyelini bulma"
   ]
  },
  {
   "cell_type": "code",
   "execution_count": 33,
   "id": "6f7b7e5b",
   "metadata": {},
   "outputs": [
    {
     "name": "stdout",
     "output_type": "stream",
     "text": [
      "1\n",
      "2\n",
      "3\n",
      "4\n",
      "Girilen sayının faktöriyeli:  24\n"
     ]
    }
   ],
   "source": [
    "sayı=input(\"Bir sayı giriniz:\")\n",
    "sayı=int(sayı)\n",
    "\n",
    "factorial=1\n",
    "for i in range(1,sayı):\n",
    "  print(i)\n",
    "  factorial*=i\n",
    "\n",
    "print(\"Girilen sayının faktöriyeli: \",factorial)\n",
    "  "
   ]
  },
  {
   "cell_type": "markdown",
   "id": "f519286e",
   "metadata": {},
   "source": [
    "Soru 8 : Fonksiyon ile girilen sayının asal olup olmadığını bulma "
   ]
  },
  {
   "cell_type": "code",
   "execution_count": 41,
   "id": "441ed4a6",
   "metadata": {},
   "outputs": [
    {
     "name": "stdout",
     "output_type": "stream",
     "text": [
      "Sayı asaldır\n"
     ]
    }
   ],
   "source": [
    "def asal_sayı(sayı):\n",
    "    if sayı > 1:\n",
    "        for i in range(2, sayı):\n",
    "            if sayı % i == 0:\n",
    "                return \"Sayı asal değildir\"\n",
    "        return \"Sayı asaldır\"\n",
    "    else:\n",
    "        return \"Sayı asal değildir\"\n",
    "\n",
    "sonuc = asal_sayı(5)\n",
    "print(sonuc)"
   ]
  },
  {
   "cell_type": "markdown",
   "id": "064d9e46",
   "metadata": {},
   "source": [
    "Soru 9 : Fonksiyon ile girilen sayının faktöriyelini bulalım. "
   ]
  },
  {
   "cell_type": "code",
   "execution_count": 42,
   "id": "5557558f",
   "metadata": {},
   "outputs": [
    {
     "name": "stdout",
     "output_type": "stream",
     "text": [
      "24\n"
     ]
    }
   ],
   "source": [
    "def factorial(n):\n",
    "  toplam=1\n",
    "  for i in range(1,n):\n",
    "    toplam*=i\n",
    "  return toplam\n",
    "\n",
    "print(factorial(5))\n"
   ]
  },
  {
   "cell_type": "markdown",
   "id": "1367874a",
   "metadata": {},
   "source": [
    "Soru 10 : Kullanıcıdan pozitif sayı bekleyen ve negatif sayı girildikçe tekrar tekrar soran bir yapı kuralım. "
   ]
  },
  {
   "cell_type": "code",
   "execution_count": 53,
   "id": "d2b3c4f6",
   "metadata": {},
   "outputs": [
    {
     "name": "stdout",
     "output_type": "stream",
     "text": [
      "Sayı negatif ,lütfen pozitif bir sayı giriniz\n",
      "Sayı negatif ,lütfen pozitif bir sayı giriniz\n",
      "Sayı negatif ,lütfen pozitif bir sayı giriniz\n",
      "Sayı negatif ,lütfen pozitif bir sayı giriniz\n",
      "Sayı pozitif\n"
     ]
    }
   ],
   "source": [
    "def positive(n):\n",
    "  if n>0:\n",
    "    print(\"Sayı pozitif\")\n",
    "    return True\n",
    "  else:\n",
    "    print(\"Sayı negatif ,lütfen pozitif bir sayı giriniz\")\n",
    "    sayı=input(\"Bir sayı giriniz:\")\n",
    "    sayı=int(sayı)\n",
    "    positive(sayı)\n",
    "\n",
    "positive(-6)\n",
    "  \n"
   ]
  }
 ],
 "metadata": {
  "kernelspec": {
   "display_name": "Python 3",
   "language": "python",
   "name": "python3"
  },
  "language_info": {
   "codemirror_mode": {
    "name": "ipython",
    "version": 3
   },
   "file_extension": ".py",
   "mimetype": "text/x-python",
   "name": "python",
   "nbconvert_exporter": "python",
   "pygments_lexer": "ipython3",
   "version": "3.11.5"
  }
 },
 "nbformat": 4,
 "nbformat_minor": 5
}
