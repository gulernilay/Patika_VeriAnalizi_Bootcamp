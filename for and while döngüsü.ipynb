{
  "cells": [
    {
      "cell_type": "markdown",
      "metadata": {
        "id": "nVc--o_bFOVC"
      },
      "source": [
        "# ders 3"
      ],
      "id": "nVc--o_bFOVC"
    },
    {
      "cell_type": "markdown",
      "metadata": {
        "id": "lBzj3MK9FOVE"
      },
      "source": [
        "## for döngüsü"
      ],
      "id": "lBzj3MK9FOVE"
    },
    {
      "cell_type": "markdown",
      "metadata": {
        "id": "VxxNtxmzFOVF"
      },
      "source": [
        "### in"
      ],
      "id": "VxxNtxmzFOVF"
    },
    {
      "cell_type": "code",
      "execution_count": null,
      "metadata": {
        "colab": {
          "base_uri": "https://localhost:8080/"
        },
        "id": "DLDDoo93FOVG",
        "outputId": "d1e60821-5aa6-4c0d-d6f8-37e0707d043e"
      },
      "outputs": [
        {
          "output_type": "execute_result",
          "data": {
            "text/plain": [
              "True"
            ]
          },
          "metadata": {},
          "execution_count": 1
        }
      ],
      "source": [
        "\"a\" in \"merhaba\""
      ],
      "id": "DLDDoo93FOVG"
    },
    {
      "cell_type": "code",
      "execution_count": null,
      "metadata": {
        "id": "74B-A9-UFOVG"
      },
      "outputs": [],
      "source": [
        "\"mer\" in \"merhaba\""
      ],
      "id": "74B-A9-UFOVG"
    },
    {
      "cell_type": "code",
      "execution_count": null,
      "metadata": {
        "colab": {
          "base_uri": "https://localhost:8080/"
        },
        "id": "WhXRC8_EFOVH",
        "outputId": "15bf3bec-86ee-4332-9ff7-2291a5a9d072"
      },
      "outputs": [
        {
          "output_type": "execute_result",
          "data": {
            "text/plain": [
              "True"
            ]
          },
          "metadata": {},
          "execution_count": 2
        }
      ],
      "source": [
        "4 in [1,2,3,4]"
      ],
      "id": "WhXRC8_EFOVH"
    },
    {
      "cell_type": "code",
      "execution_count": null,
      "metadata": {
        "id": "iyGJUbdzFOVH"
      },
      "outputs": [],
      "source": [
        "list1= [1,2,3,4]\n",
        "1 in list1"
      ],
      "id": "iyGJUbdzFOVH"
    },
    {
      "cell_type": "code",
      "execution_count": null,
      "metadata": {
        "id": "ONY_rmZEFOVH"
      },
      "outputs": [],
      "source": [
        "10 in [1,2,3]"
      ],
      "id": "ONY_rmZEFOVH"
    },
    {
      "cell_type": "markdown",
      "metadata": {
        "id": "sRhrBmJRFOVH"
      },
      "source": [
        "### for"
      ],
      "id": "sRhrBmJRFOVH"
    },
    {
      "cell_type": "code",
      "execution_count": null,
      "metadata": {
        "colab": {
          "base_uri": "https://localhost:8080/"
        },
        "id": "Iw08MbL1FOVI",
        "outputId": "e55e80b0-7c81-461c-9bd1-a5ce577b1aa4"
      },
      "outputs": [
        {
          "output_type": "stream",
          "name": "stdout",
          "text": [
            "15\n",
            "1\n",
            "2\n",
            "3\n",
            "4\n",
            "5\n",
            "6\n",
            "7\n",
            "8\n",
            "9\n"
          ]
        }
      ],
      "source": [
        "list1= [15,1,2,3,4,5,6,7,8,9]\n",
        "\n",
        "for i in list1:\n",
        "    print(i)"
      ],
      "id": "Iw08MbL1FOVI"
    },
    {
      "cell_type": "code",
      "execution_count": null,
      "metadata": {
        "id": "I6TSgfaNFOVI"
      },
      "outputs": [],
      "source": [
        "for i in \"hello\":\n",
        "    print(i)"
      ],
      "id": "I6TSgfaNFOVI"
    },
    {
      "cell_type": "code",
      "execution_count": null,
      "metadata": {
        "id": "OXiWkpCeFOVI"
      },
      "outputs": [],
      "source": [
        "for i in \"hello\":\n",
        "    print(y)"
      ],
      "id": "OXiWkpCeFOVI"
    },
    {
      "cell_type": "code",
      "execution_count": null,
      "metadata": {
        "colab": {
          "base_uri": "https://localhost:8080/"
        },
        "id": "04v608wTFOVI",
        "outputId": "e5f34e66-e89c-4740-8553-e0eaf2878d19"
      },
      "outputs": [
        {
          "output_type": "stream",
          "name": "stdout",
          "text": [
            "PPP\n",
            "yyy\n",
            "ttt\n",
            "hhh\n",
            "ooo\n",
            "nnn\n"
          ]
        }
      ],
      "source": [
        "\n",
        "for i in \"Python\":\n",
        "    print(i*3)"
      ],
      "id": "04v608wTFOVI"
    },
    {
      "cell_type": "code",
      "execution_count": null,
      "metadata": {
        "colab": {
          "base_uri": "https://localhost:8080/"
        },
        "id": "hzxIsZ6VFOVI",
        "outputId": "c8abf0cd-649d-40f8-9395-e3c38f255c9a"
      },
      "outputs": [
        {
          "output_type": "stream",
          "name": "stdout",
          "text": [
            "45\n",
            "3\n",
            "6\n",
            "9\n",
            "12\n",
            "15\n",
            "18\n",
            "21\n",
            "24\n",
            "27\n"
          ]
        }
      ],
      "source": [
        "#list1in içindeki değerleri 3 ile çarpan döngü\n",
        "for i in list1:\n",
        "    print(i*3)"
      ],
      "id": "hzxIsZ6VFOVI"
    },
    {
      "cell_type": "code",
      "execution_count": null,
      "metadata": {
        "colab": {
          "base_uri": "https://localhost:8080/"
        },
        "id": "usfRGc62FOVJ",
        "outputId": "92e8251d-1b12-45c2-fb92-aae5112959ca"
      },
      "outputs": [
        {
          "output_type": "stream",
          "name": "stdout",
          "text": [
            "225\n",
            "1\n",
            "4\n",
            "9\n",
            "16\n",
            "25\n",
            "36\n",
            "49\n",
            "64\n",
            "81\n"
          ]
        }
      ],
      "source": [
        "for i in list1:\n",
        "    print(i**2)  #karesi"
      ],
      "id": "usfRGc62FOVJ"
    },
    {
      "cell_type": "code",
      "execution_count": null,
      "metadata": {
        "colab": {
          "base_uri": "https://localhost:8080/"
        },
        "id": "Feg81W-OFOVJ",
        "outputId": "b198b6bf-023b-46fb-c6a9-74a6f951c31e"
      },
      "outputs": [
        {
          "output_type": "stream",
          "name": "stdout",
          "text": [
            "2\n",
            "4\n",
            "6\n",
            "8\n"
          ]
        }
      ],
      "source": [
        "#listedeki çift sayılar\n",
        "for i in list1:\n",
        "    if i %2 ==0:\n",
        "        print(i)"
      ],
      "id": "Feg81W-OFOVJ"
    },
    {
      "cell_type": "code",
      "execution_count": null,
      "metadata": {
        "colab": {
          "base_uri": "https://localhost:8080/"
        },
        "id": "xBFKZc7FFOVJ",
        "outputId": "27cd16ad-6a98-45af-d78c-e7f6ed60067c"
      },
      "outputs": [
        {
          "output_type": "stream",
          "name": "stdout",
          "text": [
            "15\n",
            "1\n",
            "3\n",
            "5\n",
            "7\n",
            "9\n"
          ]
        }
      ],
      "source": [
        "#listedeki tek sayılar\n",
        "for i in list1:\n",
        "    if i %2 ==1:\n",
        "        print(i)"
      ],
      "id": "xBFKZc7FFOVJ"
    },
    {
      "cell_type": "code",
      "execution_count": null,
      "metadata": {
        "colab": {
          "base_uri": "https://localhost:8080/"
        },
        "id": "X7fLW6RgFOVJ",
        "outputId": "371665e1-2eca-4d05-b946-2d6962514cf8"
      },
      "outputs": [
        {
          "output_type": "stream",
          "name": "stdout",
          "text": [
            "ara toplam 1\n",
            "ara toplam 3\n",
            "ara toplam 6\n",
            "ara toplam 10\n",
            "ara toplam 15\n",
            "ara toplam 21\n",
            "ara toplam 28\n",
            "ara toplam 36\n",
            "ara toplam 45\n",
            "ara toplam 55\n",
            "genel toplam 55\n"
          ]
        }
      ],
      "source": [
        "#listedeki elemanların toplamı\n",
        "liste= [1,2,3,4,5,6,7,8,9,10]\n",
        "toplam=0\n",
        "\n",
        "for i in liste:\n",
        "    toplam=toplam+i\n",
        "    print(\"ara toplam\", toplam)\n",
        "\n",
        "print(\"genel toplam\", toplam)"
      ],
      "id": "X7fLW6RgFOVJ"
    },
    {
      "cell_type": "markdown",
      "metadata": {
        "id": "ld4n9xmsFOVJ"
      },
      "source": [
        "## range"
      ],
      "id": "ld4n9xmsFOVJ"
    },
    {
      "cell_type": "code",
      "execution_count": null,
      "metadata": {
        "colab": {
          "base_uri": "https://localhost:8080/"
        },
        "id": "XnhrqO2DFOVJ",
        "outputId": "3406f822-25bd-4720-fecf-f5d3c7add45e"
      },
      "outputs": [
        {
          "output_type": "stream",
          "name": "stdout",
          "text": [
            "range(1, 5)\n",
            "range(0, 8, 2)\n",
            "range(0, 5)\n"
          ]
        }
      ],
      "source": [
        "#range çalışma mantığı\n",
        "#range(start,stop,step)\n",
        "\n",
        "print(range(1,5))   #1'den 5 'e kadar say\n",
        "print(range(0,8,2))  #0dan 8'e kadar 2şer atlayarak say\n",
        "print(range(5))   #tek değer verilirse default olarak 0'dan başlar."
      ],
      "id": "XnhrqO2DFOVJ"
    },
    {
      "cell_type": "code",
      "execution_count": null,
      "metadata": {
        "colab": {
          "base_uri": "https://localhost:8080/"
        },
        "id": "GyVzL9POFOVJ",
        "outputId": "265bdb43-9518-4972-80ed-660c7f9aef55"
      },
      "outputs": [
        {
          "output_type": "execute_result",
          "data": {
            "text/plain": [
              "range(1, 10)"
            ]
          },
          "metadata": {},
          "execution_count": 14
        }
      ],
      "source": [
        "range(1,10)"
      ],
      "id": "GyVzL9POFOVJ"
    },
    {
      "cell_type": "code",
      "execution_count": null,
      "metadata": {
        "colab": {
          "base_uri": "https://localhost:8080/"
        },
        "id": "CLchEisBFOVJ",
        "outputId": "83b1f916-e9eb-46ba-e545-21d25891c95d"
      },
      "outputs": [
        {
          "output_type": "stream",
          "name": "stdout",
          "text": [
            "0\n",
            "1\n",
            "2\n",
            "3\n",
            "4\n",
            "5\n",
            "6\n",
            "7\n",
            "8\n",
            "9\n"
          ]
        }
      ],
      "source": [
        "for i in range(0,10):\n",
        "    print(i)"
      ],
      "id": "CLchEisBFOVJ"
    },
    {
      "cell_type": "code",
      "execution_count": null,
      "metadata": {
        "id": "UnApHrBhFOVJ"
      },
      "outputs": [],
      "source": [
        "for i in range(10):\n",
        "    print(i)"
      ],
      "id": "UnApHrBhFOVJ"
    },
    {
      "cell_type": "code",
      "execution_count": null,
      "metadata": {
        "colab": {
          "base_uri": "https://localhost:8080/"
        },
        "id": "R252kqAuFOVK",
        "outputId": "adcd36af-2d1a-4189-80ad-b79391dcbfad"
      },
      "outputs": [
        {
          "output_type": "stream",
          "name": "stdout",
          "text": [
            "1\n",
            "3\n",
            "6\n",
            "10\n",
            "15\n",
            "21\n",
            "28\n",
            "36\n",
            "45\n",
            "55\n",
            "genel toplam 55\n"
          ]
        }
      ],
      "source": [
        "#1den 10'a kadar olan sayıların toplamı(10 DAHİL) liste= [1,2,3,4,5,6,7,8,9,10]\n",
        "toplam=0\n",
        "\n",
        "for i in range(1,11):\n",
        "    toplam= toplam + i\n",
        "    print(toplam)\n",
        "\n",
        "print(\"genel toplam\", toplam)"
      ],
      "id": "R252kqAuFOVK"
    },
    {
      "cell_type": "code",
      "execution_count": null,
      "metadata": {
        "colab": {
          "base_uri": "https://localhost:8080/"
        },
        "id": "ETLlqvf-FOVK",
        "outputId": "a7a585fd-7be6-4bdb-bfa5-24808aaed0f5"
      },
      "outputs": [
        {
          "output_type": "stream",
          "name": "stdout",
          "text": [
            "35\n"
          ]
        }
      ],
      "source": [
        "# 5'den 10'a kadar olan sayıların toplamı\n",
        "toplam=0\n",
        "\n",
        "for i in range(5,10):\n",
        "    toplam= toplam + i\n",
        "    #print(toplam)\n",
        "print(toplam)"
      ],
      "id": "ETLlqvf-FOVK"
    },
    {
      "cell_type": "code",
      "execution_count": null,
      "metadata": {
        "id": "V063Ix8hFOVK"
      },
      "outputs": [],
      "source": [
        "#range çalışma mantığı\n",
        "range(start,stop,step)"
      ],
      "id": "V063Ix8hFOVK"
    },
    {
      "cell_type": "code",
      "execution_count": null,
      "metadata": {
        "id": "aOi2wiN-FOVK"
      },
      "outputs": [],
      "source": [
        "for i in range (1,10,2):\n",
        "    print(i)"
      ],
      "id": "aOi2wiN-FOVK"
    },
    {
      "cell_type": "code",
      "execution_count": null,
      "metadata": {
        "id": "Q-WCdmi_FOVK"
      },
      "outputs": [],
      "source": [
        "for i in range (0,10,3):\n",
        "    print(i)"
      ],
      "id": "Q-WCdmi_FOVK"
    },
    {
      "cell_type": "code",
      "execution_count": null,
      "metadata": {
        "id": "Sn0vAFubFOVK"
      },
      "outputs": [],
      "source": [
        "#0'dan 10'a kadar 3 ile bölünen sayılar\n",
        "for i in range (0,10):\n",
        "    if i%3==0:\n",
        "        print(i)\n",
        "\n",
        "\n"
      ],
      "id": "Sn0vAFubFOVK"
    },
    {
      "cell_type": "code",
      "execution_count": null,
      "metadata": {
        "id": "ZDF03NV7FOVK"
      },
      "outputs": [],
      "source": [
        "# 0'dan 100' kadar olan 6 ya bölünen sayılar\n",
        "\n",
        "for i in range (0,100):\n",
        "    if i%3==0 and i%2==0:\n",
        "        print(i)\n"
      ],
      "id": "ZDF03NV7FOVK"
    },
    {
      "cell_type": "code",
      "execution_count": null,
      "metadata": {
        "id": "Tl3mv0cUFOVK"
      },
      "outputs": [],
      "source": [
        "# 0'dan 100' kadar olan 6 ya bölünen sayıları listeye bastırma\n",
        "y=[]\n",
        "\n",
        "for i in range (0,100):\n",
        "    if i%3==0 and i%2==0:\n",
        "        y.append(i)\n",
        "\n",
        "print(y)"
      ],
      "id": "Tl3mv0cUFOVK"
    },
    {
      "cell_type": "code",
      "execution_count": null,
      "metadata": {
        "id": "Wj30jGNMFOVK"
      },
      "outputs": [],
      "source": [
        "notlar=[45,85,75,50]\n",
        "\n",
        "#notların ortalamasını for döngüsü yardımı ile bulunuz.(toplam / adet)"
      ],
      "id": "Wj30jGNMFOVK"
    },
    {
      "cell_type": "code",
      "execution_count": null,
      "metadata": {
        "id": "SgH_uEAmFOVK"
      },
      "outputs": [],
      "source": [
        "notlar=[45,85,75,50]\n",
        "toplam=0\n",
        "\n",
        "for i in notlar:\n",
        "    toplam= toplam + i\n",
        "print(toplam,\"genel toplam\")\n",
        "\n",
        "avr= toplam/ len(notlar)\n",
        "\n",
        "print(\"ortalama\",avr)"
      ],
      "id": "SgH_uEAmFOVK"
    },
    {
      "cell_type": "code",
      "execution_count": null,
      "metadata": {
        "id": "QBVaf7LQFOVK"
      },
      "outputs": [],
      "source": [
        "notlar=[45,85,75,50]\n",
        "\n",
        "for i in range(len(notlar)):\n",
        "    print(notlar[i])"
      ],
      "id": "QBVaf7LQFOVK"
    },
    {
      "cell_type": "code",
      "execution_count": null,
      "metadata": {
        "id": "neCxzuG8FOVL"
      },
      "outputs": [],
      "source": [
        "# range(len) ile listedeki sayıların toplamı\n",
        "notlar=[45,85,75,50]\n",
        "toplam=0\n",
        "\n",
        "for i in range(len(notlar)):\n",
        "    toplam= toplam + notlar[i]\n",
        "\n",
        "print(toplam)"
      ],
      "id": "neCxzuG8FOVL"
    },
    {
      "cell_type": "code",
      "execution_count": null,
      "metadata": {
        "id": "YJ34NkNwFOVL"
      },
      "outputs": [],
      "source": [
        "# notlar listesindeki elemanlara liste içinde 10'ar puan ekle"
      ],
      "id": "YJ34NkNwFOVL"
    },
    {
      "cell_type": "code",
      "execution_count": null,
      "metadata": {
        "id": "W4dr5m12FOVL",
        "outputId": "193686e6-2315-41b4-d5d8-99f7c202b0fe"
      },
      "outputs": [
        {
          "name": "stdout",
          "output_type": "stream",
          "text": [
            "55\n",
            "95\n",
            "85\n",
            "60\n"
          ]
        }
      ],
      "source": [
        "notlar=[45,85,75,50]\n",
        "\n",
        "for i in notlar:\n",
        "    i= i + 10\n",
        "    print(i)"
      ],
      "id": "W4dr5m12FOVL"
    },
    {
      "cell_type": "code",
      "execution_count": null,
      "metadata": {
        "id": "dwNX865qFOVL"
      },
      "outputs": [],
      "source": [
        "# yeni bir liste oluşturup notları ekledikten sonra notlar listesini x'e eşitledik.\n",
        "\n",
        "notlar=[45,85,75,50]\n",
        "x=[]\n",
        "\n",
        "for i in notlar:\n",
        "    i= i + 10\n",
        "    x.append(i)\n",
        "\n",
        "notlar=x #çünkü aynı listenin güncellenmesini istediğimiz için bu kodu yazdık\n",
        "print(x)"
      ],
      "id": "dwNX865qFOVL"
    },
    {
      "cell_type": "code",
      "execution_count": null,
      "metadata": {
        "id": "P_PuhDsZFOVL"
      },
      "outputs": [],
      "source": [
        "# notlar listesindeki elemanlara liste içinde 10'ar puan ekle"
      ],
      "id": "P_PuhDsZFOVL"
    },
    {
      "cell_type": "code",
      "execution_count": null,
      "metadata": {
        "id": "JhT1lAfXFOVT"
      },
      "outputs": [],
      "source": [
        "#ayrı bir liste oluşturmadan aynı liste içinde işlem yapıldı.\n",
        "notlar=[45,85,75,50]\n",
        "\n",
        "for i in range(len(notlar)):\n",
        "    notlar[i]=notlar[i]+10\n",
        "notlar"
      ],
      "id": "JhT1lAfXFOVT"
    },
    {
      "cell_type": "code",
      "execution_count": null,
      "metadata": {
        "id": "nrOy3Me8FOVT"
      },
      "outputs": [],
      "source": [
        "#girilen sayının asal olup olmadığını bulan kod dizisi."
      ],
      "id": "nrOy3Me8FOVT"
    },
    {
      "cell_type": "code",
      "execution_count": null,
      "metadata": {
        "id": "nI1H8YXGFOVT"
      },
      "outputs": [],
      "source": [
        "notlar=[45,85,75,50]\n"
      ],
      "id": "nI1H8YXGFOVT"
    },
    {
      "cell_type": "code",
      "execution_count": null,
      "metadata": {
        "id": "rqNeNCylFOVT"
      },
      "outputs": [],
      "source": [
        "#her bir nota 30 puan eklenecek, eğer 100 u geçerse notu 100 yazacak.\n",
        "for i in notlar:\n",
        "    i= i + 30\n",
        "    if i>=100:\n",
        "        i=100\n",
        "    print(i)"
      ],
      "id": "rqNeNCylFOVT"
    },
    {
      "cell_type": "code",
      "execution_count": null,
      "metadata": {
        "id": "vT88YsJ_FOVT"
      },
      "outputs": [],
      "source": [
        "#liste güncellendi.\n",
        "notlar=[45,85,75,50]\n",
        "\n",
        "for i in range(len(notlar)):\n",
        "    notlar[i] = notlar[i]+30\n",
        "    if notlar[i] >=100:\n",
        "        notlar[i]=100\n",
        "\n",
        "print(notlar)"
      ],
      "id": "vT88YsJ_FOVT"
    },
    {
      "cell_type": "markdown",
      "metadata": {
        "id": "eG4EVCsOFOVT"
      },
      "source": [
        "## break and continiue"
      ],
      "id": "eG4EVCsOFOVT"
    },
    {
      "cell_type": "code",
      "execution_count": null,
      "metadata": {
        "id": "5TIC49IuFOVT",
        "outputId": "ad0d8173-52c5-444d-f5d0-f97fbb10b2d6"
      },
      "outputs": [
        {
          "name": "stdout",
          "output_type": "stream",
          "text": [
            "2\n",
            "3\n",
            "4\n",
            "5\n",
            "100\n",
            "bulundu\n"
          ]
        }
      ],
      "source": [
        "#break fonksiyonu - belli bir sınıra veya koşula geldiği zaman \"dur\" demek\n",
        "\n",
        "#listedeki 100 sayısını bulduğunda dur ve bulundu\n",
        "list1=[2,3,4,5,100,8,7]\n",
        "\n",
        "for e in list1:\n",
        "    print(e)\n",
        "    if e==100:\n",
        "        print(\"bulundu\")\n",
        "        break"
      ],
      "id": "5TIC49IuFOVT"
    },
    {
      "cell_type": "code",
      "execution_count": null,
      "metadata": {
        "id": "rbhZVi_TFOVT"
      },
      "outputs": [],
      "source": [
        "#continue fonksiyonu - koşul veya kıyas sağlandığında bile devam et demek\n",
        "\n",
        "list1=[2,3,4,5,100,8,7]\n",
        "\n",
        "for e in list1:\n",
        "    print(e)\n",
        "    if e==100:\n",
        "        print(\"bulundu\")\n",
        "        continue\n",
        "\n"
      ],
      "id": "rbhZVi_TFOVT"
    },
    {
      "cell_type": "markdown",
      "metadata": {
        "id": "-h4m5OlKFOVT"
      },
      "source": [
        "## While"
      ],
      "id": "-h4m5OlKFOVT"
    },
    {
      "cell_type": "code",
      "execution_count": null,
      "metadata": {
        "id": "Sz8gACiWFOVT"
      },
      "outputs": [],
      "source": [
        "# while fonksiyonunda False ile karşılana kadar döngü devam eder.\n",
        "i=0\n",
        "\n",
        "while i<3:\n",
        "    print(i)\n",
        "    i= i+1\n"
      ],
      "id": "Sz8gACiWFOVT"
    },
    {
      "cell_type": "code",
      "execution_count": null,
      "metadata": {
        "id": "Gx9k7A4MFOVT"
      },
      "outputs": [],
      "source": [
        "#for döngüsü\n",
        "for i in range(3):\n",
        "    print(i)"
      ],
      "id": "Gx9k7A4MFOVT"
    },
    {
      "cell_type": "code",
      "execution_count": null,
      "metadata": {
        "id": "LhD38bIEFOVU"
      },
      "outputs": [],
      "source": [
        "#for ile 10!a kadar sayıların toplamı\n",
        "toplam=0\n",
        "\n",
        "for i in range(10):\n",
        "    toplam= toplam + i\n",
        "    print(toplam)\n",
        "\n",
        "print(\"genel toplam\", toplam)"
      ],
      "id": "LhD38bIEFOVU"
    },
    {
      "cell_type": "code",
      "execution_count": null,
      "metadata": {
        "id": "tKVrg2LZFOVU"
      },
      "outputs": [],
      "source": [
        "#while ile 10'a kadar olan sayıların toplamı"
      ],
      "id": "tKVrg2LZFOVU"
    },
    {
      "cell_type": "code",
      "execution_count": null,
      "metadata": {
        "id": "PF37Hz3AFOVU"
      },
      "outputs": [],
      "source": [
        "toplam=0\n",
        "x=0\n",
        "\n",
        "while x<10:\n",
        "    toplam= toplam + x\n",
        "    #print(toplam)\n",
        "    x=x+1\n",
        "\n",
        "print(\"genel toplam\", toplam)"
      ],
      "id": "PF37Hz3AFOVU"
    },
    {
      "cell_type": "code",
      "execution_count": null,
      "metadata": {
        "id": "CTrXbbWeFOVU",
        "outputId": "a53e492c-4850-4b44-c048-b7f9f6096677"
      },
      "outputs": [
        {
          "name": "stdout",
          "output_type": "stream",
          "text": [
            "5 ve katları 5\n",
            "5 ve katları 10\n",
            "5 ve katları 15\n",
            "5 ve katları 20\n",
            "5 ve katları 25\n",
            "5 ve katları 30\n",
            "5 ve katları 35\n",
            "5 ve katları 40\n"
          ]
        }
      ],
      "source": [
        "#40'a kadar olan 5'in katları\n",
        "i=0\n",
        "\n",
        "while i<40:\n",
        "    i=i+5\n",
        "    print(\"5 ve katları\",i)"
      ],
      "id": "CTrXbbWeFOVU"
    },
    {
      "cell_type": "code",
      "execution_count": null,
      "metadata": {
        "id": "bUvMxYtGFOVU"
      },
      "outputs": [],
      "source": [
        "#while ile listenin elemanlarını bastırma\n",
        "x=0\n",
        "\n",
        "liste1=[45,87,32,21]\n",
        "\n",
        "while x<(len(liste1)): #listenin eleman uzunluğu kadar dönsün\n",
        "\n",
        "    print(liste1[x])\n",
        "    x= x+1\n",
        "\n"
      ],
      "id": "bUvMxYtGFOVU"
    },
    {
      "cell_type": "code",
      "execution_count": null,
      "metadata": {
        "id": "6PLNlSyFFOVU"
      },
      "outputs": [],
      "source": [
        "#10'a kadar olan çift doğal sayılar"
      ],
      "id": "6PLNlSyFFOVU"
    },
    {
      "cell_type": "code",
      "execution_count": null,
      "metadata": {
        "id": "6Uj0MqURFOVU"
      },
      "outputs": [],
      "source": [
        "x=0\n",
        "\n",
        "while x<10:\n",
        "    if x%2==0:\n",
        "        print(x)\n",
        "    x=x+1\n",
        "\n"
      ],
      "id": "6Uj0MqURFOVU"
    },
    {
      "cell_type": "code",
      "execution_count": null,
      "metadata": {
        "id": "UyRhlIDnFOVU"
      },
      "outputs": [],
      "source": [
        "#10'a kadar olan çift doğal sayıların karelerinin toplamı"
      ],
      "id": "UyRhlIDnFOVU"
    },
    {
      "cell_type": "code",
      "execution_count": null,
      "metadata": {
        "id": "wOlppbT0FOVU"
      },
      "outputs": [],
      "source": [
        "x=0\n",
        "toplam=0\n",
        "\n",
        "while x<10:\n",
        "    if x%2==0:\n",
        "        toplam = toplam + x**2\n",
        "    x=x+1\n",
        "\n",
        "print(toplam)"
      ],
      "id": "wOlppbT0FOVU"
    },
    {
      "cell_type": "code",
      "execution_count": null,
      "metadata": {
        "id": "BvN_J_-RFOVU"
      },
      "outputs": [],
      "source": [
        "# Kullancıdan pozitif bir sayı bekleyen, pozitifi de gördüğü an bastıran,\n",
        "#negatif sayı girildikçe bir daha soran yapı kuralım."
      ],
      "id": "BvN_J_-RFOVU"
    },
    {
      "cell_type": "code",
      "execution_count": null,
      "metadata": {
        "id": "ePXcgDoLFOVV"
      },
      "outputs": [],
      "source": [
        "num= int(input(\"bir sayı giriniz: \"))\n",
        "\n",
        "while num<0:\n",
        "    print(\"sayı negatif, lütfen tekrar deneyiniz\")\n",
        "\n",
        "    num=int(input(\"bir sayı giriniz:\"))\n",
        "\n",
        "print(\"bravo, pozitif sayı\", num)"
      ],
      "id": "ePXcgDoLFOVV"
    },
    {
      "cell_type": "code",
      "execution_count": null,
      "metadata": {
        "id": "xm4HFuLzFOVV"
      },
      "outputs": [],
      "source": [
        "#girilen sayı negatif ise çalışmaya devam etsin, pozitif sayının da tek mi çift olduğunu söylesin"
      ],
      "id": "xm4HFuLzFOVV"
    },
    {
      "cell_type": "code",
      "execution_count": null,
      "metadata": {
        "id": "QxJRUr87FOVV"
      },
      "outputs": [],
      "source": [
        "num= int(input(\"bir sayı giriniz: \"))\n",
        "\n",
        "while num<0:\n",
        "    print(\"sayı negatif, lütfen tekrar deneyiniz\")\n",
        "    num=int(input(\"bir sayı giriniz:\"))\n",
        "    #continue\n",
        "if num%2==0:\n",
        "    print(\"çift\")\n",
        "else:\n",
        "    print(\"tek\")"
      ],
      "id": "QxJRUr87FOVV"
    },
    {
      "cell_type": "code",
      "execution_count": null,
      "metadata": {
        "id": "CYxJFIUJFOVV"
      },
      "outputs": [],
      "source": [
        "#ödevler\n",
        "\n",
        "#1- girilen bir sayının asal olup olmadığını veren döngü\n",
        "#2- girilen sayının faktöriyelini alan döngü\n",
        "#3- kullanıcıdan 2 sayı istenicek. Verilen 2. sayı 1. sayının kuvveti şeklinde yazılacak.\n",
        "#4- listeki 100 değerinin listede kaçıncı indiste olduğunu bulan döngü (while - for)"
      ],
      "id": "CYxJFIUJFOVV"
    },
    {
      "cell_type": "code",
      "execution_count": null,
      "metadata": {
        "id": "_KfTpPzWFOVV"
      },
      "outputs": [],
      "source": [
        "anahtar = 1\n",
        "\n",
        "while anahtar== 1:\n",
        "    soru = input(\"Yapmak istediğiniz işlemin numarasını girin (Çıkmak için q): \")\n",
        "\n",
        "    if soru == \"q\":\n",
        "        print(\"çıkılıyor...\")\n",
        "        anahtar = 0"
      ],
      "id": "_KfTpPzWFOVV"
    },
    {
      "cell_type": "code",
      "execution_count": null,
      "metadata": {
        "id": "h_RxF4mwFOVV",
        "outputId": "500afdee-3218-41e4-a9a8-ebc49e96a804"
      },
      "outputs": [
        {
          "name": "stdout",
          "output_type": "stream",
          "text": [
            "Yapmak istediğiniz işlemin numarasını girin (Çıkmak için q): 5\n",
            "Yapmak istediğiniz işlemin numarasını girin (Çıkmak için q): 5\n",
            "Yapmak istediğiniz işlemin numarasını girin (Çıkmak için q): 5\n",
            "Yapmak istediğiniz işlemin numarasını girin (Çıkmak için q): 5\n",
            "Yapmak istediğiniz işlemin numarasını girin (Çıkmak için q): q\n",
            "çıkılıyor...\n"
          ]
        }
      ],
      "source": [
        "while True:\n",
        "    soru = input(\"Yapmak istediğiniz işlemin numarasını girin (Çıkmak için q): \")\n",
        "\n",
        "    if soru == \"q\":\n",
        "        print(\"çıkılıyor...\")\n",
        "        #False\n",
        "        break"
      ],
      "id": "h_RxF4mwFOVV"
    },
    {
      "cell_type": "code",
      "execution_count": null,
      "metadata": {
        "id": "YL-WscySFOVV"
      },
      "outputs": [],
      "source": [],
      "id": "YL-WscySFOVV"
    }
  ],
  "metadata": {
    "kernelspec": {
      "display_name": "Python 3",
      "language": "python",
      "name": "python3"
    },
    "language_info": {
      "codemirror_mode": {
        "name": "ipython",
        "version": 3
      },
      "file_extension": ".py",
      "mimetype": "text/x-python",
      "name": "python",
      "nbconvert_exporter": "python",
      "pygments_lexer": "ipython3",
      "version": "3.7.6"
    },
    "colab": {
      "provenance": [],
      "toc_visible": true
    }
  },
  "nbformat": 4,
  "nbformat_minor": 5
}