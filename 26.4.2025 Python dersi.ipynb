{
  "cells": [
    {
      "cell_type": "markdown",
      "metadata": {
        "id": "dOcETawtM_es"
      },
      "source": [
        "# Python Giriş\n"
      ],
      "id": "dOcETawtM_es"
    },
    {
      "cell_type": "markdown",
      "metadata": {
        "id": "49ZPW4w6M_ew"
      },
      "source": [
        "## Ders 2"
      ],
      "id": "49ZPW4w6M_ew"
    },
    {
      "cell_type": "markdown",
      "metadata": {
        "id": "kzK4xAHyM_ew"
      },
      "source": [
        "Bugünkü dersimizde Python'a giriş yaparak veri yarpılarını öğreneceğiz."
      ],
      "id": "kzK4xAHyM_ew"
    },
    {
      "cell_type": "markdown",
      "metadata": {
        "id": "kmYsF6XQM_ex"
      },
      "source": [
        "### integers and floats\n",
        "\n",
        "integer: tamsayı\n",
        "\n",
        "float: ondalıklı sayı"
      ],
      "id": "kmYsF6XQM_ex"
    },
    {
      "cell_type": "code",
      "execution_count": 1,
      "metadata": {
        "id": "4YMnheRUM_ex",
        "colab": {
          "base_uri": "https://localhost:8080/"
        },
        "outputId": "9897e384-3da8-4e51-d82c-f2b10ed926ad"
      },
      "outputs": [
        {
          "output_type": "execute_result",
          "data": {
            "text/plain": [
              "2"
            ]
          },
          "metadata": {},
          "execution_count": 1
        }
      ],
      "source": [
        "2"
      ],
      "id": "4YMnheRUM_ex"
    },
    {
      "cell_type": "code",
      "execution_count": 2,
      "metadata": {
        "id": "sTrM8zbOM_ey",
        "colab": {
          "base_uri": "https://localhost:8080/"
        },
        "outputId": "5740cb43-62f9-456b-a12b-aaf04514f9ae"
      },
      "outputs": [
        {
          "output_type": "execute_result",
          "data": {
            "text/plain": [
              "2.3"
            ]
          },
          "metadata": {},
          "execution_count": 2
        }
      ],
      "source": [
        "2.3"
      ],
      "id": "sTrM8zbOM_ey"
    },
    {
      "cell_type": "code",
      "execution_count": 3,
      "metadata": {
        "id": "6VjuT6xjM_ey",
        "colab": {
          "base_uri": "https://localhost:8080/"
        },
        "outputId": "cdc7f494-e1e8-4ab8-949c-d8f39eec3d36"
      },
      "outputs": [
        {
          "output_type": "execute_result",
          "data": {
            "text/plain": [
              "4"
            ]
          },
          "metadata": {},
          "execution_count": 3
        }
      ],
      "source": [
        "2 + 2"
      ],
      "id": "6VjuT6xjM_ey"
    },
    {
      "cell_type": "code",
      "execution_count": 4,
      "metadata": {
        "id": "t84KIy3iM_ez",
        "colab": {
          "base_uri": "https://localhost:8080/"
        },
        "outputId": "b2f1ecfc-692a-4eeb-adf5-a59a23dbb6dd"
      },
      "outputs": [
        {
          "output_type": "execute_result",
          "data": {
            "text/plain": [
              "4.3"
            ]
          },
          "metadata": {},
          "execution_count": 4
        }
      ],
      "source": [
        "2.3 + 2"
      ],
      "id": "t84KIy3iM_ez"
    },
    {
      "cell_type": "code",
      "execution_count": 5,
      "metadata": {
        "id": "7HwwBe_fM_ez",
        "colab": {
          "base_uri": "https://localhost:8080/"
        },
        "outputId": "b1777fde-3924-41ff-b4a4-0088e427d7ac"
      },
      "outputs": [
        {
          "output_type": "execute_result",
          "data": {
            "text/plain": [
              "2.0"
            ]
          },
          "metadata": {},
          "execution_count": 5
        }
      ],
      "source": [
        "2.0"
      ],
      "id": "7HwwBe_fM_ez"
    },
    {
      "cell_type": "code",
      "execution_count": 6,
      "metadata": {
        "id": "4LkpP7aEM_ez"
      },
      "outputs": [],
      "source": [
        "#çarpma işlemi\n",
        "\n",
        "#2"
      ],
      "id": "4LkpP7aEM_ez"
    },
    {
      "cell_type": "code",
      "execution_count": 7,
      "metadata": {
        "id": "EwQwjIVwM_ez",
        "colab": {
          "base_uri": "https://localhost:8080/"
        },
        "outputId": "f1c4ab34-f0cc-4231-f40a-2ff5f21ed695"
      },
      "outputs": [
        {
          "output_type": "execute_result",
          "data": {
            "text/plain": [
              "40"
            ]
          },
          "metadata": {},
          "execution_count": 7
        }
      ],
      "source": [
        "#çarpma işlemi\n",
        "\n",
        "4 * 10"
      ],
      "id": "EwQwjIVwM_ez"
    },
    {
      "cell_type": "code",
      "execution_count": 9,
      "metadata": {
        "id": "ntbu-nCjM_e0",
        "colab": {
          "base_uri": "https://localhost:8080/"
        },
        "outputId": "cf4daf0d-06f4-4b8f-f481-0cbc6b439dcb"
      },
      "outputs": [
        {
          "output_type": "execute_result",
          "data": {
            "text/plain": [
              "42"
            ]
          },
          "metadata": {},
          "execution_count": 9
        }
      ],
      "source": [
        "#işlem önceliği\n",
        "\n",
        "(4+10) * 3"
      ],
      "id": "ntbu-nCjM_e0"
    },
    {
      "cell_type": "code",
      "execution_count": 10,
      "metadata": {
        "id": "FCop_RZiM_e0",
        "colab": {
          "base_uri": "https://localhost:8080/"
        },
        "outputId": "71d63be1-a5d3-4236-d9dc-8c30b12a6db0"
      },
      "outputs": [
        {
          "output_type": "execute_result",
          "data": {
            "text/plain": [
              "2.0"
            ]
          },
          "metadata": {},
          "execution_count": 10
        }
      ],
      "source": [
        "#bölme\n",
        "4 / 2"
      ],
      "id": "FCop_RZiM_e0"
    },
    {
      "cell_type": "code",
      "execution_count": 13,
      "metadata": {
        "id": "psmUohVZM_e0",
        "colab": {
          "base_uri": "https://localhost:8080/"
        },
        "outputId": "dc4a27ac-dbbd-4f2b-daae-53bc205720cb"
      },
      "outputs": [
        {
          "output_type": "execute_result",
          "data": {
            "text/plain": [
              "8"
            ]
          },
          "metadata": {},
          "execution_count": 13
        }
      ],
      "source": [
        "# kuvvet alma\n",
        "\n",
        "2 **3"
      ],
      "id": "psmUohVZM_e0"
    },
    {
      "cell_type": "code",
      "execution_count": 14,
      "metadata": {
        "id": "Qm_tO1ayM_e0",
        "colab": {
          "base_uri": "https://localhost:8080/"
        },
        "outputId": "2d27f9d1-0ab6-4c46-991f-2d29503c174e"
      },
      "outputs": [
        {
          "output_type": "execute_result",
          "data": {
            "text/plain": [
              "1"
            ]
          },
          "metadata": {},
          "execution_count": 14
        }
      ],
      "source": [
        "#bölümünden kalan  %\n",
        "\n",
        "7 % 2"
      ],
      "id": "Qm_tO1ayM_e0"
    },
    {
      "cell_type": "markdown",
      "metadata": {
        "id": "yMYujpS_M_e0"
      },
      "source": [
        "### strings\n",
        "\n",
        "karakterler \" \" içine alınmalıdır"
      ],
      "id": "yMYujpS_M_e0"
    },
    {
      "cell_type": "code",
      "execution_count": null,
      "metadata": {
        "id": "H9jgX5YiM_e1"
      },
      "outputs": [],
      "source": [
        "\"mehmet\""
      ],
      "id": "H9jgX5YiM_e1"
    },
    {
      "cell_type": "code",
      "source": [
        "\"mehmet\""
      ],
      "metadata": {
        "id": "wkieCuluzWno",
        "outputId": "24c825b1-f6c1-435f-ccb2-60be41b0e4c1",
        "colab": {
          "base_uri": "https://localhost:8080/",
          "height": 35
        }
      },
      "id": "wkieCuluzWno",
      "execution_count": 16,
      "outputs": [
        {
          "output_type": "execute_result",
          "data": {
            "text/plain": [
              "'mehmet'"
            ],
            "application/vnd.google.colaboratory.intrinsic+json": {
              "type": "string"
            }
          },
          "metadata": {},
          "execution_count": 16
        }
      ]
    },
    {
      "cell_type": "code",
      "execution_count": 17,
      "metadata": {
        "id": "VUULOPNXM_e1",
        "colab": {
          "base_uri": "https://localhost:8080/",
          "height": 35
        },
        "outputId": "e9e4a164-5121-4532-97ac-0d4869936db8"
      },
      "outputs": [
        {
          "output_type": "execute_result",
          "data": {
            "text/plain": [
              "'hello world'"
            ],
            "application/vnd.google.colaboratory.intrinsic+json": {
              "type": "string"
            }
          },
          "metadata": {},
          "execution_count": 17
        }
      ],
      "source": [
        "\"hello world\""
      ],
      "id": "VUULOPNXM_e1"
    },
    {
      "cell_type": "code",
      "execution_count": 18,
      "metadata": {
        "id": "jTxvMWD4M_e1",
        "colab": {
          "base_uri": "https://localhost:8080/",
          "height": 35
        },
        "outputId": "f54a3e96-3a8f-41db-d2c7-b432088effcb"
      },
      "outputs": [
        {
          "output_type": "execute_result",
          "data": {
            "text/plain": [
              "'mehmet yalçın'"
            ],
            "application/vnd.google.colaboratory.intrinsic+json": {
              "type": "string"
            }
          },
          "metadata": {},
          "execution_count": 18
        }
      ],
      "source": [
        "\"mehmet\"    \" yalçın\""
      ],
      "id": "jTxvMWD4M_e1"
    },
    {
      "cell_type": "code",
      "execution_count": 21,
      "metadata": {
        "id": "9k5JP06EM_e1",
        "colab": {
          "base_uri": "https://localhost:8080/",
          "height": 35
        },
        "outputId": "f18e7bc7-f628-4b9f-a8b8-6233bd7b062a"
      },
      "outputs": [
        {
          "output_type": "execute_result",
          "data": {
            "text/plain": [
              "'mehmet     ali *   yalçın   '"
            ],
            "application/vnd.google.colaboratory.intrinsic+json": {
              "type": "string"
            }
          },
          "metadata": {},
          "execution_count": 21
        }
      ],
      "source": [
        "#birleştirme\n",
        "\"mehmet     \" + \"ali \"+ \"*   \"+ \"yalçın   \""
      ],
      "id": "9k5JP06EM_e1"
    },
    {
      "cell_type": "code",
      "execution_count": 22,
      "metadata": {
        "id": "_utPHsOQM_e1",
        "colab": {
          "base_uri": "https://localhost:8080/"
        },
        "outputId": "32575b9f-27e5-466f-b3d7-fd86ae26a1f6"
      },
      "outputs": [
        {
          "output_type": "execute_result",
          "data": {
            "text/plain": [
              "('mehmet', 'yalçın')"
            ]
          },
          "metadata": {},
          "execution_count": 22
        }
      ],
      "source": [
        "\"mehmet\",\"yalçın\""
      ],
      "id": "_utPHsOQM_e1"
    },
    {
      "cell_type": "code",
      "source": [
        "\"mehmet \" * 3"
      ],
      "metadata": {
        "id": "4w82wGChz7mJ",
        "outputId": "07e8381b-fac2-4fb6-b3e4-93de8eef3d5f",
        "colab": {
          "base_uri": "https://localhost:8080/",
          "height": 35
        }
      },
      "id": "4w82wGChz7mJ",
      "execution_count": 27,
      "outputs": [
        {
          "output_type": "execute_result",
          "data": {
            "text/plain": [
              "'mehmet mehmet mehmet '"
            ],
            "application/vnd.google.colaboratory.intrinsic+json": {
              "type": "string"
            }
          },
          "metadata": {},
          "execution_count": 27
        }
      ]
    },
    {
      "cell_type": "code",
      "execution_count": 23,
      "metadata": {
        "id": "Wh3Da9zMM_e1",
        "colab": {
          "base_uri": "https://localhost:8080/",
          "height": 35
        },
        "outputId": "617ef790-7411-48ff-be6c-f7016e169aa8"
      },
      "outputs": [
        {
          "output_type": "execute_result",
          "data": {
            "text/plain": [
              "'mehmet ***'"
            ],
            "application/vnd.google.colaboratory.intrinsic+json": {
              "type": "string"
            }
          },
          "metadata": {},
          "execution_count": 23
        }
      ],
      "source": [
        "# toplama birleştirir\n",
        "\"mehmet \" + \"*\" * 3"
      ],
      "id": "Wh3Da9zMM_e1"
    },
    {
      "cell_type": "code",
      "execution_count": 28,
      "metadata": {
        "id": "qzhQxAJIM_e1",
        "outputId": "65fba8e9-3e56-4229-b194-807abdf7b706",
        "colab": {
          "base_uri": "https://localhost:8080/"
        }
      },
      "outputs": [
        {
          "output_type": "execute_result",
          "data": {
            "text/plain": [
              "('mehmet ', '***')"
            ]
          },
          "metadata": {},
          "execution_count": 28
        }
      ],
      "source": [
        "#virgül yanyana yazar.\n",
        "\"mehmet \" , \"*\" * 3"
      ],
      "id": "qzhQxAJIM_e1"
    },
    {
      "cell_type": "code",
      "execution_count": 29,
      "metadata": {
        "id": "zOZBRHPhM_e2",
        "colab": {
          "base_uri": "https://localhost:8080/",
          "height": 35
        },
        "outputId": "f856b8fb-11b1-4339-a299-e5f211e241fd"
      },
      "outputs": [
        {
          "output_type": "execute_result",
          "data": {
            "text/plain": [
              "' mehmet yalçın mehmet yalçın'"
            ],
            "application/vnd.google.colaboratory.intrinsic+json": {
              "type": "string"
            }
          },
          "metadata": {},
          "execution_count": 29
        }
      ],
      "source": [
        "\" mehmet \" \"yalçın\" * 2"
      ],
      "id": "zOZBRHPhM_e2"
    },
    {
      "cell_type": "code",
      "execution_count": 30,
      "metadata": {
        "id": "Db5qTLQoM_e2",
        "colab": {
          "base_uri": "https://localhost:8080/",
          "height": 35
        },
        "outputId": "ff044416-8536-4552-9f82-1f85ee75e319"
      },
      "outputs": [
        {
          "output_type": "execute_result",
          "data": {
            "text/plain": [
              "'222'"
            ],
            "application/vnd.google.colaboratory.intrinsic+json": {
              "type": "string"
            }
          },
          "metadata": {},
          "execution_count": 30
        }
      ],
      "source": [
        "\"2\" * 3"
      ],
      "id": "Db5qTLQoM_e2"
    },
    {
      "cell_type": "code",
      "execution_count": 31,
      "metadata": {
        "id": "oqmWY_L5M_e2",
        "colab": {
          "base_uri": "https://localhost:8080/"
        },
        "outputId": "86706d68-b4e9-4088-8352-a688a69f6465"
      },
      "outputs": [
        {
          "output_type": "execute_result",
          "data": {
            "text/plain": [
              "str"
            ]
          },
          "metadata": {},
          "execution_count": 31
        }
      ],
      "source": [
        "type(\"2\")"
      ],
      "id": "oqmWY_L5M_e2"
    },
    {
      "cell_type": "markdown",
      "metadata": {
        "id": "en3xOcjFM_e2"
      },
      "source": [
        "type() fonksiyonu ile değişkenlerin tipine ulaşılır."
      ],
      "id": "en3xOcjFM_e2"
    },
    {
      "cell_type": "code",
      "execution_count": 32,
      "metadata": {
        "id": "MTmrPWOVM_e2",
        "colab": {
          "base_uri": "https://localhost:8080/"
        },
        "outputId": "caae7df8-6145-43dc-a719-c383173bdd7b"
      },
      "outputs": [
        {
          "output_type": "execute_result",
          "data": {
            "text/plain": [
              "int"
            ]
          },
          "metadata": {},
          "execution_count": 32
        }
      ],
      "source": [
        "type(3)"
      ],
      "id": "MTmrPWOVM_e2"
    },
    {
      "cell_type": "code",
      "execution_count": 33,
      "metadata": {
        "id": "OtMRXsiaM_e2",
        "colab": {
          "base_uri": "https://localhost:8080/"
        },
        "outputId": "0a06fdfc-7238-4c9d-a0ee-909bc5658a3c"
      },
      "outputs": [
        {
          "output_type": "execute_result",
          "data": {
            "text/plain": [
              "float"
            ]
          },
          "metadata": {},
          "execution_count": 33
        }
      ],
      "source": [
        "type(2.3)"
      ],
      "id": "OtMRXsiaM_e2"
    },
    {
      "cell_type": "code",
      "execution_count": 34,
      "metadata": {
        "id": "-6A626C9M_e2",
        "colab": {
          "base_uri": "https://localhost:8080/",
          "height": 35
        },
        "outputId": "d5cb92fc-3db6-4087-f914-480df22bf010"
      },
      "outputs": [
        {
          "output_type": "execute_result",
          "data": {
            "text/plain": [
              "'2'"
            ],
            "application/vnd.google.colaboratory.intrinsic+json": {
              "type": "string"
            }
          },
          "metadata": {},
          "execution_count": 34
        }
      ],
      "source": [
        "# integerı stringe dönüştürmek için str() fonksiyonu kullanılır.\n",
        "str(2)"
      ],
      "id": "-6A626C9M_e2"
    },
    {
      "cell_type": "code",
      "execution_count": 35,
      "metadata": {
        "id": "wtClGGNRM_e3",
        "colab": {
          "base_uri": "https://localhost:8080/",
          "height": 35
        },
        "outputId": "6474294c-269a-4510-872d-a456caaa04c0"
      },
      "outputs": [
        {
          "output_type": "execute_result",
          "data": {
            "text/plain": [
              "'222'"
            ],
            "application/vnd.google.colaboratory.intrinsic+json": {
              "type": "string"
            }
          },
          "metadata": {},
          "execution_count": 35
        }
      ],
      "source": [
        "str(2) * 3"
      ],
      "id": "wtClGGNRM_e3"
    },
    {
      "cell_type": "code",
      "execution_count": 36,
      "metadata": {
        "id": "OOcojexmM_e3",
        "colab": {
          "base_uri": "https://localhost:8080/"
        },
        "outputId": "86db47a0-c786-4e08-ac1e-a3aa329343fe"
      },
      "outputs": [
        {
          "output_type": "execute_result",
          "data": {
            "text/plain": [
              "2"
            ]
          },
          "metadata": {},
          "execution_count": 36
        }
      ],
      "source": [
        "# floatı integera çevirmeye yarar.\n",
        "int(2.8)"
      ],
      "id": "OOcojexmM_e3"
    },
    {
      "cell_type": "code",
      "execution_count": 37,
      "metadata": {
        "id": "MwZUEQ1qM_e3",
        "colab": {
          "base_uri": "https://localhost:8080/"
        },
        "outputId": "3e6f9793-30fb-47a4-fad0-5550ea28fd93"
      },
      "outputs": [
        {
          "output_type": "execute_result",
          "data": {
            "text/plain": [
              "2"
            ]
          },
          "metadata": {},
          "execution_count": 37
        }
      ],
      "source": [
        "int(\"2\")"
      ],
      "id": "MwZUEQ1qM_e3"
    },
    {
      "cell_type": "code",
      "execution_count": 38,
      "metadata": {
        "id": "vPa_Z8pRM_e3",
        "colab": {
          "base_uri": "https://localhost:8080/",
          "height": 158
        },
        "outputId": "273bfaed-c51c-4b84-fb7f-7af0ee0734c0"
      },
      "outputs": [
        {
          "output_type": "error",
          "ename": "ValueError",
          "evalue": "invalid literal for int() with base 10: 'mehmet'",
          "traceback": [
            "\u001b[0;31m---------------------------------------------------------------------------\u001b[0m",
            "\u001b[0;31mValueError\u001b[0m                                Traceback (most recent call last)",
            "\u001b[0;32m<ipython-input-38-f0ca9c5473b2>\u001b[0m in \u001b[0;36m<cell line: 0>\u001b[0;34m()\u001b[0m\n\u001b[1;32m      1\u001b[0m \u001b[0;31m#karakter içeren string bir ifade int fonksiyonuyla integera dönüştürülemez.\u001b[0m\u001b[0;34m\u001b[0m\u001b[0;34m\u001b[0m\u001b[0m\n\u001b[0;32m----> 2\u001b[0;31m \u001b[0mint\u001b[0m\u001b[0;34m(\u001b[0m\u001b[0;34m\"mehmet\"\u001b[0m\u001b[0;34m)\u001b[0m\u001b[0;34m\u001b[0m\u001b[0;34m\u001b[0m\u001b[0m\n\u001b[0m",
            "\u001b[0;31mValueError\u001b[0m: invalid literal for int() with base 10: 'mehmet'"
          ]
        }
      ],
      "source": [
        "#karakter içeren string bir ifade int fonksiyonuyla integera dönüştürülemez.\n",
        "int(\"mehmet\")"
      ],
      "id": "vPa_Z8pRM_e3"
    },
    {
      "cell_type": "code",
      "execution_count": 39,
      "metadata": {
        "id": "beR5gYrrM_e3",
        "colab": {
          "base_uri": "https://localhost:8080/"
        },
        "outputId": "149e5099-4be1-42ae-8670-39471fd564fb"
      },
      "outputs": [
        {
          "output_type": "execute_result",
          "data": {
            "text/plain": [
              "str"
            ]
          },
          "metadata": {},
          "execution_count": 39
        }
      ],
      "source": [
        "type(\"mehmet\")"
      ],
      "id": "beR5gYrrM_e3"
    },
    {
      "cell_type": "markdown",
      "metadata": {
        "id": "J6mClsRSM_e3"
      },
      "source": [
        "## değişken atama"
      ],
      "id": "J6mClsRSM_e3"
    },
    {
      "cell_type": "code",
      "execution_count": 42,
      "metadata": {
        "id": "Hq52Jt2zM_e3"
      },
      "outputs": [],
      "source": [
        "#değişkenin sondaki değerini hatırlar.\n",
        "kısakenar= 3\n",
        "uzunkenar= 4"
      ],
      "id": "Hq52Jt2zM_e3"
    },
    {
      "cell_type": "code",
      "execution_count": 43,
      "metadata": {
        "id": "XomNFCGdM_e3",
        "colab": {
          "base_uri": "https://localhost:8080/"
        },
        "outputId": "91b26d40-3f69-46c6-f33e-c0fffc4044aa"
      },
      "outputs": [
        {
          "output_type": "execute_result",
          "data": {
            "text/plain": [
              "3"
            ]
          },
          "metadata": {},
          "execution_count": 43
        }
      ],
      "source": [
        "kısakenar"
      ],
      "id": "XomNFCGdM_e3"
    },
    {
      "cell_type": "code",
      "execution_count": 45,
      "metadata": {
        "id": "x5jOlskMM_e9"
      },
      "outputs": [],
      "source": [
        "kısa_kenar= 5\n",
        "uzun_kenar= 4"
      ],
      "id": "x5jOlskMM_e9"
    },
    {
      "cell_type": "code",
      "execution_count": 46,
      "metadata": {
        "id": "tYtLyGGXM_e9",
        "colab": {
          "base_uri": "https://localhost:8080/"
        },
        "outputId": "7b493e22-a97d-4013-c865-cb9bc51d38ef"
      },
      "outputs": [
        {
          "output_type": "execute_result",
          "data": {
            "text/plain": [
              "5"
            ]
          },
          "metadata": {},
          "execution_count": 46
        }
      ],
      "source": [
        "kısa_kenar"
      ],
      "id": "tYtLyGGXM_e9"
    },
    {
      "cell_type": "code",
      "execution_count": 47,
      "metadata": {
        "id": "4LMgedIcM_e-",
        "colab": {
          "base_uri": "https://localhost:8080/"
        },
        "outputId": "ab2714d6-3168-4934-d9c8-0d19427ee411"
      },
      "outputs": [
        {
          "output_type": "execute_result",
          "data": {
            "text/plain": [
              "20"
            ]
          },
          "metadata": {},
          "execution_count": 47
        }
      ],
      "source": [
        "kısa_kenar * uzun_kenar #kısa kenar=5 uzun kenar=4"
      ],
      "id": "4LMgedIcM_e-"
    },
    {
      "cell_type": "code",
      "execution_count": 48,
      "metadata": {
        "id": "09V0_Ci3M_e-"
      },
      "outputs": [],
      "source": [
        "Alan= kısa_kenar * uzun_kenar"
      ],
      "id": "09V0_Ci3M_e-"
    },
    {
      "cell_type": "code",
      "execution_count": 49,
      "metadata": {
        "id": "csop4lX6M_e-",
        "colab": {
          "base_uri": "https://localhost:8080/"
        },
        "outputId": "709cefd9-1c33-4e99-b1f5-bc4ce873728d"
      },
      "outputs": [
        {
          "output_type": "execute_result",
          "data": {
            "text/plain": [
              "20"
            ]
          },
          "metadata": {},
          "execution_count": 49
        }
      ],
      "source": [
        "Alan"
      ],
      "id": "csop4lX6M_e-"
    },
    {
      "cell_type": "code",
      "execution_count": 51,
      "metadata": {
        "id": "uEBcR7-TM_e-"
      },
      "outputs": [],
      "source": [
        "yarıçapı= 2\n",
        "pi= 3.14"
      ],
      "id": "uEBcR7-TM_e-"
    },
    {
      "cell_type": "code",
      "execution_count": 52,
      "metadata": {
        "id": "puHd9xsnM_e-",
        "colab": {
          "base_uri": "https://localhost:8080/"
        },
        "outputId": "491e20b8-c856-4bbc-8885-b33d64348a73"
      },
      "outputs": [
        {
          "output_type": "execute_result",
          "data": {
            "text/plain": [
              "12.56"
            ]
          },
          "metadata": {},
          "execution_count": 52
        }
      ],
      "source": [
        "Alan = pi * (yarıçapı **2)\n",
        "Alan"
      ],
      "id": "puHd9xsnM_e-"
    },
    {
      "cell_type": "code",
      "execution_count": 53,
      "metadata": {
        "id": "M-7vb_7TM_e_",
        "colab": {
          "base_uri": "https://localhost:8080/"
        },
        "outputId": "85e1f4be-ebd3-4697-f1aa-8e14316251b4"
      },
      "outputs": [
        {
          "output_type": "execute_result",
          "data": {
            "text/plain": [
              "12"
            ]
          },
          "metadata": {},
          "execution_count": 53
        }
      ],
      "source": [
        "# float tipini integera dönüştürdük\n",
        "b = int(Alan)\n",
        "b"
      ],
      "id": "M-7vb_7TM_e_"
    },
    {
      "cell_type": "code",
      "execution_count": 54,
      "metadata": {
        "id": "sWRN1teFM_e_",
        "colab": {
          "base_uri": "https://localhost:8080/"
        },
        "outputId": "a2cd84ed-39f4-4192-d229-915b23932d0d"
      },
      "outputs": [
        {
          "output_type": "execute_result",
          "data": {
            "text/plain": [
              "24"
            ]
          },
          "metadata": {},
          "execution_count": 54
        }
      ],
      "source": [
        "int(Alan) * 2"
      ],
      "id": "sWRN1teFM_e_"
    },
    {
      "cell_type": "code",
      "execution_count": 55,
      "metadata": {
        "id": "-cMGCA2YM_e_",
        "colab": {
          "base_uri": "https://localhost:8080/",
          "height": 35
        },
        "outputId": "35197130-9c1d-4895-ef6f-57b888ad89b4"
      },
      "outputs": [
        {
          "output_type": "execute_result",
          "data": {
            "text/plain": [
              "'12.5612.56'"
            ],
            "application/vnd.google.colaboratory.intrinsic+json": {
              "type": "string"
            }
          },
          "metadata": {},
          "execution_count": 55
        }
      ],
      "source": [
        "str(Alan) * 2"
      ],
      "id": "-cMGCA2YM_e_"
    },
    {
      "cell_type": "code",
      "execution_count": 56,
      "metadata": {
        "id": "r9xbLmzPM_e_",
        "colab": {
          "base_uri": "https://localhost:8080/"
        },
        "outputId": "7c8cad23-a684-4237-b8ac-dcdf91aee5a6"
      },
      "outputs": [
        {
          "output_type": "execute_result",
          "data": {
            "text/plain": [
              "12.56"
            ]
          },
          "metadata": {},
          "execution_count": 56
        }
      ],
      "source": [
        "Alan"
      ],
      "id": "r9xbLmzPM_e_"
    },
    {
      "cell_type": "markdown",
      "metadata": {
        "id": "M259N3FKM_e_"
      },
      "source": [
        "### string üzerine işlemler"
      ],
      "id": "M259N3FKM_e_"
    },
    {
      "cell_type": "code",
      "execution_count": 58,
      "metadata": {
        "id": "5ZbixnkTM_e_"
      },
      "outputs": [],
      "source": [
        "#string ifadelere başladık\n",
        "a= \"Çavlan\""
      ],
      "id": "5ZbixnkTM_e_"
    },
    {
      "cell_type": "code",
      "execution_count": 59,
      "metadata": {
        "id": "Y0lrBvqIM_e_",
        "colab": {
          "base_uri": "https://localhost:8080/"
        },
        "outputId": "5021296b-2ec7-4603-be35-0c8a5dba0bbf"
      },
      "outputs": [
        {
          "output_type": "execute_result",
          "data": {
            "text/plain": [
              "6"
            ]
          },
          "metadata": {},
          "execution_count": 59
        }
      ],
      "source": [
        "#karakter uzunluğu - sayısı (çok kullanılan bir fonksiyon)\n",
        "\n",
        "len(a)"
      ],
      "id": "Y0lrBvqIM_e_"
    },
    {
      "cell_type": "code",
      "execution_count": 60,
      "metadata": {
        "id": "RJWEcS_SM_e_",
        "colab": {
          "base_uri": "https://localhost:8080/",
          "height": 35
        },
        "outputId": "718f53bb-e52c-48aa-ab2a-f042c86f550f"
      },
      "outputs": [
        {
          "output_type": "execute_result",
          "data": {
            "text/plain": [
              "'ÇAVLAN'"
            ],
            "application/vnd.google.colaboratory.intrinsic+json": {
              "type": "string"
            }
          },
          "metadata": {},
          "execution_count": 60
        }
      ],
      "source": [
        "#büyük harf\n",
        "a.upper()"
      ],
      "id": "RJWEcS_SM_e_"
    },
    {
      "cell_type": "code",
      "execution_count": 65,
      "metadata": {
        "id": "V-IPozlxM_fA",
        "colab": {
          "base_uri": "https://localhost:8080/",
          "height": 35
        },
        "outputId": "67b9a3ac-9392-4347-d03b-a738bff2607f"
      },
      "outputs": [
        {
          "output_type": "execute_result",
          "data": {
            "text/plain": [
              "'ÇAVLAN'"
            ],
            "application/vnd.google.colaboratory.intrinsic+json": {
              "type": "string"
            }
          },
          "metadata": {},
          "execution_count": 65
        }
      ],
      "source": [
        "buyuk = a.upper()\n",
        "buyuk"
      ],
      "id": "V-IPozlxM_fA"
    },
    {
      "cell_type": "code",
      "execution_count": 66,
      "metadata": {
        "id": "BqBOXaQ0M_fA",
        "colab": {
          "base_uri": "https://localhost:8080/",
          "height": 35
        },
        "outputId": "54de1d9c-9a9a-4de2-b65c-4e1f1049fe13"
      },
      "outputs": [
        {
          "output_type": "execute_result",
          "data": {
            "text/plain": [
              "'çavlan'"
            ],
            "application/vnd.google.colaboratory.intrinsic+json": {
              "type": "string"
            }
          },
          "metadata": {},
          "execution_count": 66
        }
      ],
      "source": [
        "# küçük harf haline getirir.\n",
        "buyuk.lower()"
      ],
      "id": "BqBOXaQ0M_fA"
    },
    {
      "cell_type": "code",
      "execution_count": 67,
      "metadata": {
        "id": "2dxkakaEM_fA",
        "colab": {
          "base_uri": "https://localhost:8080/",
          "height": 35
        },
        "outputId": "d35487fc-e243-428d-b9bc-853d576c025b"
      },
      "outputs": [
        {
          "output_type": "execute_result",
          "data": {
            "text/plain": [
              "'Çallan'"
            ],
            "application/vnd.google.colaboratory.intrinsic+json": {
              "type": "string"
            }
          },
          "metadata": {},
          "execution_count": 67
        }
      ],
      "source": [
        "# karakteri değiştirme v yerine l yazacak.\n",
        "\n",
        "a.replace(\"v\",\"l\")"
      ],
      "id": "2dxkakaEM_fA"
    },
    {
      "cell_type": "code",
      "execution_count": 68,
      "metadata": {
        "id": "dsgOPNc6M_fA",
        "colab": {
          "base_uri": "https://localhost:8080/",
          "height": 35
        },
        "outputId": "101f878c-93af-4cca-a8b2-11e895670c15"
      },
      "outputs": [
        {
          "output_type": "execute_result",
          "data": {
            "text/plain": [
              "'Çavlan'"
            ],
            "application/vnd.google.colaboratory.intrinsic+json": {
              "type": "string"
            }
          },
          "metadata": {},
          "execution_count": 68
        }
      ],
      "source": [
        "a"
      ],
      "id": "dsgOPNc6M_fA"
    },
    {
      "cell_type": "code",
      "execution_count": 69,
      "metadata": {
        "id": "CmRIc2joM_fA",
        "colab": {
          "base_uri": "https://localhost:8080/",
          "height": 35
        },
        "outputId": "5858150f-8e78-4b1c-a24b-a883b2825d76"
      },
      "outputs": [
        {
          "output_type": "execute_result",
          "data": {
            "text/plain": [
              "'Çavlan'"
            ],
            "application/vnd.google.colaboratory.intrinsic+json": {
              "type": "string"
            }
          },
          "metadata": {},
          "execution_count": 69
        }
      ],
      "source": [
        "a.replace(\"x\",\"l\")"
      ],
      "id": "CmRIc2joM_fA"
    },
    {
      "cell_type": "code",
      "execution_count": 70,
      "metadata": {
        "id": "-rrk_SmNM_fA"
      },
      "outputs": [],
      "source": [
        "b= \"hello world\""
      ],
      "id": "-rrk_SmNM_fA"
    },
    {
      "cell_type": "code",
      "execution_count": 71,
      "metadata": {
        "id": "Y8NEhHKDM_fB",
        "colab": {
          "base_uri": "https://localhost:8080/",
          "height": 35
        },
        "outputId": "ca6e2588-5998-4341-f146-ca8f04f1b4e2"
      },
      "outputs": [
        {
          "output_type": "execute_result",
          "data": {
            "text/plain": [
              "'Hello world'"
            ],
            "application/vnd.google.colaboratory.intrinsic+json": {
              "type": "string"
            }
          },
          "metadata": {},
          "execution_count": 71
        }
      ],
      "source": [
        "#baş harfi büyük\n",
        "b.capitalize()"
      ],
      "id": "Y8NEhHKDM_fB"
    },
    {
      "cell_type": "code",
      "execution_count": 72,
      "metadata": {
        "id": "0B3JY0_KM_fB",
        "colab": {
          "base_uri": "https://localhost:8080/",
          "height": 35
        },
        "outputId": "aaff04d4-42af-4690-e8b8-ef1e87d49e09"
      },
      "outputs": [
        {
          "output_type": "execute_result",
          "data": {
            "text/plain": [
              "'Hello World'"
            ],
            "application/vnd.google.colaboratory.intrinsic+json": {
              "type": "string"
            }
          },
          "metadata": {},
          "execution_count": 72
        }
      ],
      "source": [
        "# Başlık haline getirdi\n",
        "b.title()"
      ],
      "id": "0B3JY0_KM_fB"
    },
    {
      "cell_type": "code",
      "execution_count": 81,
      "metadata": {
        "id": "gA-kZLoRM_fB",
        "colab": {
          "base_uri": "https://localhost:8080/"
        },
        "outputId": "550dd8b6-ee72-43bd-9fae-8428450f1d08"
      },
      "outputs": [
        {
          "output_type": "execute_result",
          "data": {
            "text/plain": [
              "5"
            ]
          },
          "metadata": {},
          "execution_count": 81
        }
      ],
      "source": [
        "a=2\n",
        "\n",
        "a= a + 3\n",
        "a"
      ],
      "id": "gA-kZLoRM_fB"
    },
    {
      "cell_type": "code",
      "execution_count": 82,
      "metadata": {
        "id": "oyhRfLL7M_fB",
        "colab": {
          "base_uri": "https://localhost:8080/"
        },
        "outputId": "cc440170-e05a-4343-8868-e8b23d3649f1"
      },
      "outputs": [
        {
          "output_type": "execute_result",
          "data": {
            "text/plain": [
              "6"
            ]
          },
          "metadata": {},
          "execution_count": 82
        }
      ],
      "source": [
        "a=a+1\n",
        "a"
      ],
      "id": "oyhRfLL7M_fB"
    },
    {
      "cell_type": "code",
      "execution_count": 83,
      "metadata": {
        "id": "HwFh9d3pM_fB"
      },
      "outputs": [],
      "source": [
        "a+=1   #a=a+1"
      ],
      "id": "HwFh9d3pM_fB"
    },
    {
      "cell_type": "code",
      "execution_count": 84,
      "metadata": {
        "id": "HtMWHaJWM_fB",
        "colab": {
          "base_uri": "https://localhost:8080/"
        },
        "outputId": "d6c96150-af0f-49cd-c066-0af35b90f30d"
      },
      "outputs": [
        {
          "output_type": "execute_result",
          "data": {
            "text/plain": [
              "7"
            ]
          },
          "metadata": {},
          "execution_count": 84
        }
      ],
      "source": [
        "a"
      ],
      "id": "HtMWHaJWM_fB"
    },
    {
      "cell_type": "markdown",
      "metadata": {
        "id": "0cEQvOHkM_fB"
      },
      "source": [
        "### karakter içlerine erişme\n"
      ],
      "id": "0cEQvOHkM_fB"
    },
    {
      "cell_type": "code",
      "execution_count": 86,
      "metadata": {
        "id": "zosDTqIeM_fC"
      },
      "outputs": [],
      "source": [
        "c= \"mehmet\""
      ],
      "id": "zosDTqIeM_fC"
    },
    {
      "cell_type": "code",
      "execution_count": 87,
      "metadata": {
        "id": "AJeGD_98M_fC",
        "colab": {
          "base_uri": "https://localhost:8080/",
          "height": 35
        },
        "outputId": "bffdbc3d-dfbc-4a15-a928-7a0bb74c844a"
      },
      "outputs": [
        {
          "output_type": "execute_result",
          "data": {
            "text/plain": [
              "'m'"
            ],
            "application/vnd.google.colaboratory.intrinsic+json": {
              "type": "string"
            }
          },
          "metadata": {},
          "execution_count": 87
        }
      ],
      "source": [
        "#baştan giderken ilk harf 0 diye tanımlanmıştır.\n",
        "c[0]"
      ],
      "id": "AJeGD_98M_fC"
    },
    {
      "cell_type": "code",
      "execution_count": 88,
      "metadata": {
        "id": "ZzkG7tXgM_fC",
        "colab": {
          "base_uri": "https://localhost:8080/",
          "height": 35
        },
        "outputId": "9484e3a1-78a6-4a35-dba9-dfb77a36e5ed"
      },
      "outputs": [
        {
          "output_type": "execute_result",
          "data": {
            "text/plain": [
              "'h'"
            ],
            "application/vnd.google.colaboratory.intrinsic+json": {
              "type": "string"
            }
          },
          "metadata": {},
          "execution_count": 88
        }
      ],
      "source": [
        "c[2]"
      ],
      "id": "ZzkG7tXgM_fC"
    },
    {
      "cell_type": "code",
      "execution_count": 89,
      "metadata": {
        "id": "Vlg7PNKdM_fC",
        "colab": {
          "base_uri": "https://localhost:8080/",
          "height": 35
        },
        "outputId": "eb7e70af-1e10-4f26-c866-e5e340e90e3e"
      },
      "outputs": [
        {
          "output_type": "execute_result",
          "data": {
            "text/plain": [
              "'t'"
            ],
            "application/vnd.google.colaboratory.intrinsic+json": {
              "type": "string"
            }
          },
          "metadata": {},
          "execution_count": 89
        }
      ],
      "source": [
        "#sondan gelince ilk karakter -1 olarak tanımlanmıştır.\n",
        "c[-1]"
      ],
      "id": "Vlg7PNKdM_fC"
    },
    {
      "cell_type": "code",
      "execution_count": 90,
      "metadata": {
        "id": "VrJavpCOM_fC",
        "colab": {
          "base_uri": "https://localhost:8080/",
          "height": 35
        },
        "outputId": "31ddb587-66db-4f8a-b254-86cbc5f27ffe"
      },
      "outputs": [
        {
          "output_type": "execute_result",
          "data": {
            "text/plain": [
              "'e'"
            ],
            "application/vnd.google.colaboratory.intrinsic+json": {
              "type": "string"
            }
          },
          "metadata": {},
          "execution_count": 90
        }
      ],
      "source": [
        "c[-2]"
      ],
      "id": "VrJavpCOM_fC"
    },
    {
      "cell_type": "code",
      "execution_count": 91,
      "metadata": {
        "id": "BszBb1YEM_fC",
        "colab": {
          "base_uri": "https://localhost:8080/",
          "height": 35
        },
        "outputId": "a12ebd68-1182-4bad-fe2c-69793c56acc7"
      },
      "outputs": [
        {
          "output_type": "execute_result",
          "data": {
            "text/plain": [
              "'ehme'"
            ],
            "application/vnd.google.colaboratory.intrinsic+json": {
              "type": "string"
            }
          },
          "metadata": {},
          "execution_count": 91
        }
      ],
      "source": [
        "# 1 . karakterden 5. karaktere kadar (1. dahil ama 5. dahil değil)\n",
        "c[1:5]"
      ],
      "id": "BszBb1YEM_fC"
    },
    {
      "cell_type": "code",
      "execution_count": 92,
      "metadata": {
        "id": "PYXLRXu7M_fC",
        "colab": {
          "base_uri": "https://localhost:8080/",
          "height": 35
        },
        "outputId": "a9c54ab3-5d0f-48a9-d8dd-a71831d7475d"
      },
      "outputs": [
        {
          "output_type": "execute_result",
          "data": {
            "text/plain": [
              "'meh'"
            ],
            "application/vnd.google.colaboratory.intrinsic+json": {
              "type": "string"
            }
          },
          "metadata": {},
          "execution_count": 92
        }
      ],
      "source": [
        "#sayı verilmezse otomatik olarak baş veya sonu alır. (0dan başlar)\n",
        "c[:3]"
      ],
      "id": "PYXLRXu7M_fC"
    },
    {
      "cell_type": "code",
      "execution_count": 93,
      "metadata": {
        "id": "uBpo7lv0M_fC",
        "colab": {
          "base_uri": "https://localhost:8080/",
          "height": 35
        },
        "outputId": "babb8fbc-b938-49d2-9ec5-8f79da5604d3"
      },
      "outputs": [
        {
          "output_type": "execute_result",
          "data": {
            "text/plain": [
              "'ehmet'"
            ],
            "application/vnd.google.colaboratory.intrinsic+json": {
              "type": "string"
            }
          },
          "metadata": {},
          "execution_count": 93
        }
      ],
      "source": [
        "c[1:]"
      ],
      "id": "uBpo7lv0M_fC"
    },
    {
      "cell_type": "code",
      "execution_count": 95,
      "metadata": {
        "id": "f45dR34JM_fD",
        "colab": {
          "base_uri": "https://localhost:8080/",
          "height": 35
        },
        "outputId": "9e602bb0-922f-4580-8be4-f6bd41a7252e"
      },
      "outputs": [
        {
          "output_type": "execute_result",
          "data": {
            "text/plain": [
              "'mehmet'"
            ],
            "application/vnd.google.colaboratory.intrinsic+json": {
              "type": "string"
            }
          },
          "metadata": {},
          "execution_count": 95
        }
      ],
      "source": [
        "c[:]   # :  = tamamı"
      ],
      "id": "f45dR34JM_fD"
    },
    {
      "cell_type": "markdown",
      "metadata": {
        "id": "ntMMtDaXM_fD"
      },
      "source": [
        "# print fonksiyonu"
      ],
      "id": "ntMMtDaXM_fD"
    },
    {
      "cell_type": "code",
      "execution_count": 96,
      "metadata": {
        "id": "uI0u9C-ZM_fD",
        "colab": {
          "base_uri": "https://localhost:8080/"
        },
        "outputId": "de49c001-dfba-44c5-dbaf-26bc2aa65b65"
      },
      "outputs": [
        {
          "output_type": "stream",
          "name": "stdout",
          "text": [
            "mehmet\n"
          ]
        }
      ],
      "source": [
        "a = \"mehmet\"\n",
        "print(a)"
      ],
      "id": "uI0u9C-ZM_fD"
    },
    {
      "cell_type": "code",
      "execution_count": 97,
      "metadata": {
        "id": "7jWgWbuzM_fD",
        "colab": {
          "base_uri": "https://localhost:8080/"
        },
        "outputId": "3dac65b7-232e-4b6a-ab69-8be954965717"
      },
      "outputs": [
        {
          "output_type": "stream",
          "name": "stdout",
          "text": [
            "2\n",
            "3\n"
          ]
        }
      ],
      "source": [
        "a=2\n",
        "print(a)\n",
        "\n",
        "b=3\n",
        "print(b)"
      ],
      "id": "7jWgWbuzM_fD"
    },
    {
      "cell_type": "code",
      "execution_count": 98,
      "metadata": {
        "id": "ZtJ7ThitM_fD",
        "colab": {
          "base_uri": "https://localhost:8080/"
        },
        "outputId": "8f626cd1-b67a-4310-ac4e-376fd41189ef"
      },
      "outputs": [
        {
          "output_type": "stream",
          "name": "stdout",
          "text": [
            "5\n"
          ]
        }
      ],
      "source": [
        "a=2\n",
        "print(3 + a)"
      ],
      "id": "ZtJ7ThitM_fD"
    },
    {
      "cell_type": "code",
      "source": [
        "print(a) + 3"
      ],
      "metadata": {
        "id": "Qao1Awz15tlN",
        "outputId": "03bb9ea2-b611-4c66-a6d5-daeb08f05015",
        "colab": {
          "base_uri": "https://localhost:8080/",
          "height": 158
        }
      },
      "id": "Qao1Awz15tlN",
      "execution_count": 104,
      "outputs": [
        {
          "output_type": "stream",
          "name": "stdout",
          "text": [
            "2\n"
          ]
        },
        {
          "output_type": "error",
          "ename": "TypeError",
          "evalue": "unsupported operand type(s) for +: 'NoneType' and 'int'",
          "traceback": [
            "\u001b[0;31m---------------------------------------------------------------------------\u001b[0m",
            "\u001b[0;31mTypeError\u001b[0m                                 Traceback (most recent call last)",
            "\u001b[0;32m<ipython-input-104-d2e227e40e88>\u001b[0m in \u001b[0;36m<cell line: 0>\u001b[0;34m()\u001b[0m\n\u001b[0;32m----> 1\u001b[0;31m \u001b[0mprint\u001b[0m\u001b[0;34m(\u001b[0m\u001b[0ma\u001b[0m\u001b[0;34m)\u001b[0m \u001b[0;34m+\u001b[0m \u001b[0;36m3\u001b[0m\u001b[0;34m\u001b[0m\u001b[0;34m\u001b[0m\u001b[0m\n\u001b[0m",
            "\u001b[0;31mTypeError\u001b[0m: unsupported operand type(s) for +: 'NoneType' and 'int'"
          ]
        }
      ]
    },
    {
      "cell_type": "code",
      "execution_count": 105,
      "metadata": {
        "id": "2ekBI99lM_fD",
        "colab": {
          "base_uri": "https://localhost:8080/"
        },
        "outputId": "093a2930-cd8d-4cec-9c86-48b8df357287"
      },
      "outputs": [
        {
          "output_type": "execute_result",
          "data": {
            "text/plain": [
              "2"
            ]
          },
          "metadata": {},
          "execution_count": 105
        }
      ],
      "source": [
        "a"
      ],
      "id": "2ekBI99lM_fD"
    },
    {
      "cell_type": "code",
      "source": [
        "a=2\n",
        "print(\"yazdığın sayı: \" + a)"
      ],
      "metadata": {
        "id": "EoZmDX5T6Gdq",
        "outputId": "c0d29e3f-e192-4d28-c263-3a8907e7323a",
        "colab": {
          "base_uri": "https://localhost:8080/",
          "height": 158
        }
      },
      "id": "EoZmDX5T6Gdq",
      "execution_count": 106,
      "outputs": [
        {
          "output_type": "error",
          "ename": "TypeError",
          "evalue": "can only concatenate str (not \"int\") to str",
          "traceback": [
            "\u001b[0;31m---------------------------------------------------------------------------\u001b[0m",
            "\u001b[0;31mTypeError\u001b[0m                                 Traceback (most recent call last)",
            "\u001b[0;32m<ipython-input-106-0c8f129a13a6>\u001b[0m in \u001b[0;36m<cell line: 0>\u001b[0;34m()\u001b[0m\n\u001b[1;32m      1\u001b[0m \u001b[0ma\u001b[0m\u001b[0;34m=\u001b[0m\u001b[0;36m2\u001b[0m\u001b[0;34m\u001b[0m\u001b[0;34m\u001b[0m\u001b[0m\n\u001b[0;32m----> 2\u001b[0;31m \u001b[0mprint\u001b[0m\u001b[0;34m(\u001b[0m\u001b[0;34m\"yazdığın sayı: \"\u001b[0m \u001b[0;34m+\u001b[0m \u001b[0ma\u001b[0m\u001b[0;34m)\u001b[0m\u001b[0;34m\u001b[0m\u001b[0;34m\u001b[0m\u001b[0m\n\u001b[0m",
            "\u001b[0;31mTypeError\u001b[0m: can only concatenate str (not \"int\") to str"
          ]
        }
      ]
    },
    {
      "cell_type": "code",
      "execution_count": 107,
      "metadata": {
        "id": "inENoknKM_fD",
        "colab": {
          "base_uri": "https://localhost:8080/"
        },
        "outputId": "6885ab9c-c96c-4f55-ffa0-fffff45b2381"
      },
      "outputs": [
        {
          "output_type": "stream",
          "name": "stdout",
          "text": [
            "yazdığın sayı: 2\n"
          ]
        }
      ],
      "source": [
        "a=2\n",
        "print(\"yazdığın sayı: \" + str(a))"
      ],
      "id": "inENoknKM_fD"
    },
    {
      "cell_type": "code",
      "execution_count": 108,
      "metadata": {
        "id": "W16ZLNhxM_fD",
        "colab": {
          "base_uri": "https://localhost:8080/"
        },
        "outputId": "ff0e80c8-8184-4620-d05f-9abd509260c5"
      },
      "outputs": [
        {
          "output_type": "stream",
          "name": "stdout",
          "text": [
            "hoşgeldin sayın yalçın\n"
          ]
        }
      ],
      "source": [
        "a = \"yalçın\"\n",
        "print(\"hoşgeldin \" + \"sayın \" + a)"
      ],
      "id": "W16ZLNhxM_fD"
    },
    {
      "cell_type": "code",
      "execution_count": 109,
      "metadata": {
        "id": "GpoijkVpM_fD",
        "colab": {
          "base_uri": "https://localhost:8080/"
        },
        "outputId": "5609f506-1837-466b-fe0d-0e0650a21af1"
      },
      "outputs": [
        {
          "output_type": "stream",
          "name": "stdout",
          "text": [
            "hoşgeldin_sayın_mehmet\n"
          ]
        }
      ],
      "source": [
        "# sep fonksiyonu ile kelimelerin arasına istenilen ifade eklenebilir.(sep fonksiyonu virgül ile kullanılır.)\n",
        "a = \"mehmet\"\n",
        "print(\"hoşgeldin\",\"sayın\",a , sep=\"_\" )"
      ],
      "id": "GpoijkVpM_fD"
    },
    {
      "cell_type": "code",
      "execution_count": 112,
      "metadata": {
        "id": "xyopdbk5M_fD",
        "colab": {
          "base_uri": "https://localhost:8080/"
        },
        "outputId": "3259a96a-0602-4e59-b8fa-31b7be81443a"
      },
      "outputs": [
        {
          "output_type": "stream",
          "name": "stdout",
          "text": [
            "hoşgeldin_sayın_yalçın\n"
          ]
        }
      ],
      "source": [
        "a = \"yalçın\"\n",
        "print(\"hoşgeldin_\" + \"sayın_\" + a)"
      ],
      "id": "xyopdbk5M_fD"
    },
    {
      "cell_type": "code",
      "execution_count": 113,
      "metadata": {
        "id": "6TWpqDFcM_fE",
        "colab": {
          "base_uri": "https://localhost:8080/"
        },
        "outputId": "752c6300-c2a3-4483-bf55-d376b17b1232"
      },
      "outputs": [
        {
          "output_type": "stream",
          "name": "stdout",
          "text": [
            "hoşgeldin  *  sayın   *  mehmet\n"
          ]
        }
      ],
      "source": [
        "# boşluk bırakmak için sep=\" \"\n",
        "a = \"mehmet\"\n",
        "print(\"hoşgeldin\",\"sayın \",a , sep=\"  *  \" )"
      ],
      "id": "6TWpqDFcM_fE"
    },
    {
      "cell_type": "code",
      "execution_count": 115,
      "metadata": {
        "id": "1Po5px1iM_fE",
        "colab": {
          "base_uri": "https://localhost:8080/"
        },
        "outputId": "6a3543b0-157e-4b38-93ca-edce16c01e3d"
      },
      "outputs": [
        {
          "output_type": "stream",
          "name": "stdout",
          "text": [
            "bana hoşgeldin ve 'iyi günler' dedi\n"
          ]
        }
      ],
      "source": [
        "print(\"bana hoşgeldin ve 'iyi günler' dedi\")"
      ],
      "id": "1Po5px1iM_fE"
    },
    {
      "cell_type": "code",
      "execution_count": 116,
      "metadata": {
        "id": "YWYkBX1GM_fE",
        "colab": {
          "base_uri": "https://localhost:8080/"
        },
        "outputId": "ba1e3a80-f68b-42e6-c86f-9cc8fb6f7180"
      },
      "outputs": [
        {
          "output_type": "stream",
          "name": "stdout",
          "text": [
            "bana hoşgeldin ve \"iyi günler\" dedi\n"
          ]
        }
      ],
      "source": [
        "#kaçış dizileri \\\n",
        "print(\"bana hoşgeldin ve \\\"iyi günler\\\" dedi\")"
      ],
      "id": "YWYkBX1GM_fE"
    },
    {
      "cell_type": "code",
      "execution_count": 117,
      "metadata": {
        "id": "RLOpVH99M_fE",
        "colab": {
          "base_uri": "https://localhost:8080/"
        },
        "outputId": "ab713379-b2d3-4480-8a89-5f0eab5297b6"
      },
      "outputs": [
        {
          "output_type": "stream",
          "name": "stdout",
          "text": [
            "bana hoşgeldin ve iyi \n",
            "günler \n",
            "dedi\n"
          ]
        }
      ],
      "source": [
        "#paragraf yapan kaçış dizisi \\n\n",
        "\n",
        "print(\"bana hoşgeldin ve iyi \\ngünler \\ndedi\")"
      ],
      "id": "RLOpVH99M_fE"
    },
    {
      "cell_type": "code",
      "execution_count": 118,
      "metadata": {
        "id": "HXIQrE6mM_fE",
        "colab": {
          "base_uri": "https://localhost:8080/"
        },
        "outputId": "fba5c509-7cd5-4447-89d5-b7005754f956"
      },
      "outputs": [
        {
          "output_type": "stream",
          "name": "stdout",
          "text": [
            "bana hoşgeldin ve iyi \tgünler \tdedi\n"
          ]
        }
      ],
      "source": [
        "#tab yapan (boşluk bırakan) kaçış dizisi \\t\n",
        "\n",
        "print(\"bana hoşgeldin ve iyi \\tgünler \\tdedi\")"
      ],
      "id": "HXIQrE6mM_fE"
    },
    {
      "cell_type": "code",
      "execution_count": 119,
      "metadata": {
        "id": "ZxjIcnQEM_fE",
        "outputId": "163b0f8f-a726-429e-d34a-a78cec3cd6b1",
        "colab": {
          "base_uri": "https://localhost:8080/"
        }
      },
      "outputs": [
        {
          "output_type": "stream",
          "name": "stdout",
          "text": [
            "mehmet2\n"
          ]
        }
      ],
      "source": [
        "print(\"mehmet\" + \"2\")"
      ],
      "id": "ZxjIcnQEM_fE"
    },
    {
      "cell_type": "markdown",
      "metadata": {
        "id": "_u9xPHhNM_fF"
      },
      "source": [
        "## input\n",
        "\n",
        "Kullanıcıdan bilgi istenilen fonksiyon"
      ],
      "id": "_u9xPHhNM_fF"
    },
    {
      "cell_type": "code",
      "source": [
        "input(\"bana bir sayı söyle: \")"
      ],
      "metadata": {
        "id": "5zXvWzPn7uaX",
        "outputId": "18a44ede-7978-48e6-dbd5-78f2e53c0723",
        "colab": {
          "base_uri": "https://localhost:8080/",
          "height": 52
        }
      },
      "id": "5zXvWzPn7uaX",
      "execution_count": 121,
      "outputs": [
        {
          "name": "stdout",
          "output_type": "stream",
          "text": [
            "bana bir sayı söyle: mehmet\n"
          ]
        },
        {
          "output_type": "execute_result",
          "data": {
            "text/plain": [
              "'mehmet'"
            ],
            "application/vnd.google.colaboratory.intrinsic+json": {
              "type": "string"
            }
          },
          "metadata": {},
          "execution_count": 121
        }
      ]
    },
    {
      "cell_type": "code",
      "execution_count": 122,
      "metadata": {
        "id": "qVCywWdnM_fF",
        "colab": {
          "base_uri": "https://localhost:8080/"
        },
        "outputId": "a470f5bd-257e-4076-9e69-3ffe11d9a557"
      },
      "outputs": [
        {
          "output_type": "stream",
          "name": "stdout",
          "text": [
            "bana bir sayı söyle: 5\n",
            "5\n"
          ]
        }
      ],
      "source": [
        "sayi= input(\"bana bir sayı söyle: \")\n",
        "print(sayi)"
      ],
      "id": "qVCywWdnM_fF"
    },
    {
      "cell_type": "code",
      "execution_count": null,
      "metadata": {
        "id": "YmGvh42jM_fF",
        "outputId": "c06c7d23-0554-4ae2-dbb8-fda8af48e142"
      },
      "outputs": [
        {
          "name": "stdout",
          "output_type": "stream",
          "text": [
            "bana bir sayı söyle: mehmet\n",
            "tuttugun sayı mehmet\n"
          ]
        }
      ],
      "source": [
        "sayi= input(\"bana bir sayı söyle: \")\n",
        "print(\"tuttugun sayı \" + str(sayi))"
      ],
      "id": "YmGvh42jM_fF"
    },
    {
      "cell_type": "code",
      "execution_count": 127,
      "metadata": {
        "id": "z94h2rY-M_fG",
        "outputId": "dbbb6609-0e0f-4bfc-a58a-b45018a625ba",
        "colab": {
          "base_uri": "https://localhost:8080/"
        }
      },
      "outputs": [
        {
          "output_type": "stream",
          "name": "stdout",
          "text": [
            "bana bir sayı söyle: 5\n",
            "verileen sayının 3 katını alacağız : 15\n"
          ]
        }
      ],
      "source": [
        "# input fonksiyonun önüne yazılan int ile sadece integer sayı istemiş olduk\n",
        "sayi= int(input(\"bana bir sayı söyle: \"))\n",
        "\n",
        "print(\"verileen sayının 3 katını alacağız :\", sayi * 3)"
      ],
      "id": "z94h2rY-M_fG"
    },
    {
      "cell_type": "code",
      "execution_count": 128,
      "metadata": {
        "id": "pu0ZSlwhM_fG",
        "outputId": "8f652e73-7b5a-411c-bd19-50c52dafb6c7",
        "colab": {
          "base_uri": "https://localhost:8080/"
        }
      },
      "outputs": [
        {
          "output_type": "stream",
          "name": "stdout",
          "text": [
            "bana bir sayı söyle: 5\n",
            "15.0\n"
          ]
        }
      ],
      "source": [
        "# innput fonksiyonun önüne yazılan float ile float ve integer sayı istemiş olduk\n",
        "sayi= float(input(\"bana bir sayı söyle: \"))\n",
        "\n",
        "print(sayi * 3)"
      ],
      "id": "pu0ZSlwhM_fG"
    },
    {
      "cell_type": "code",
      "execution_count": 129,
      "metadata": {
        "id": "nI_8ydROM_fG",
        "outputId": "bfc7ea17-ef88-4b60-9562-5d86c7e604c9",
        "colab": {
          "base_uri": "https://localhost:8080/"
        }
      },
      "outputs": [
        {
          "output_type": "stream",
          "name": "stdout",
          "text": [
            "kısa kenarını giriniz: 5\n",
            "uzun kenarını giriniz: 8\n",
            "Alanı: 40 Çevresi: 26\n"
          ]
        }
      ],
      "source": [
        "#örnek , kullanıcıdan istenen bir dikdörtgenin iki kenarın alanını ve çevresini bulan kod dizisini yazınız.\n",
        "kisa_kenar= int(input(\"kısa kenarını giriniz: \"))\n",
        "uzun_kenar= int(input(\"uzun kenarını giriniz: \"))\n",
        "\n",
        "\n",
        "Alan = kisa_kenar * uzun_kenar\n",
        "Çevre= 2 * (kisa_kenar + uzun_kenar)\n",
        "\n",
        "print(\"Alanı:\", Alan, \"Çevresi:\" , Çevre)"
      ],
      "id": "nI_8ydROM_fG"
    },
    {
      "cell_type": "code",
      "execution_count": 130,
      "metadata": {
        "id": "v_HMa6HDM_fG",
        "outputId": "cd573757-4f12-455e-9589-de1df498843e",
        "colab": {
          "base_uri": "https://localhost:8080/"
        }
      },
      "outputs": [
        {
          "output_type": "stream",
          "name": "stdout",
          "text": [
            "bir sayı giriniz: 8\n",
            "kalan= 2\n"
          ]
        }
      ],
      "source": [
        "#örnek kullanıcıdan alınan sayının 3 ile bölümünden kalanı bulunuz\n",
        "\n",
        "sayi1= int(input(\"bir sayı giriniz: \"))\n",
        "\n",
        "kalan= sayi1 % 3\n",
        "print(\"kalan=\", kalan)"
      ],
      "id": "v_HMa6HDM_fG"
    },
    {
      "cell_type": "code",
      "execution_count": null,
      "metadata": {
        "id": "kChA1CozM_fG",
        "outputId": "8aa91ac6-e0bc-4b07-d73a-636de51bfc34"
      },
      "outputs": [
        {
          "name": "stdout",
          "output_type": "stream",
          "text": [
            "isminizi giriniz: m\n",
            "soyisminizi giriniz: y\n",
            "hoşgeldin m y\n"
          ]
        }
      ],
      "source": [
        "# isim ve soyisim ayrı ayrı istenip önüne hoşgeldin yazan bir kod yazalım.\n",
        "\n",
        "isim= str(input(\"isminizi giriniz: \"))\n",
        "soyisim= str(input(\"soyisminizi giriniz: \"))\n",
        "\n",
        "print(\"hoşgeldin \" + isim + \" \" + soyisim)"
      ],
      "id": "kChA1CozM_fG"
    },
    {
      "cell_type": "code",
      "execution_count": null,
      "metadata": {
        "id": "UBz5o3WkM_fG"
      },
      "outputs": [],
      "source": [
        "# Celciusu Fahrenheit'a ceviren kodu yazalım F= C*1.8 + 32\n",
        "#kullanıcı celcius girişi yapacak"
      ],
      "id": "UBz5o3WkM_fG"
    },
    {
      "cell_type": "code",
      "execution_count": null,
      "metadata": {
        "id": "DFkpEZ4WM_fG",
        "outputId": "ffc06420-9b4c-44b7-c0b2-20b01ea1d438"
      },
      "outputs": [
        {
          "name": "stdout",
          "output_type": "stream",
          "text": [
            "Celcius: 40\n",
            "fahrenheit: 104.0\n"
          ]
        }
      ],
      "source": [
        "celcius= float(input(\"Celcius: \"))\n",
        "\n",
        "F= celcius*1.8 + 32\n",
        "print(\"fahrenheit:\" ,  F)"
      ],
      "id": "DFkpEZ4WM_fG"
    },
    {
      "cell_type": "code",
      "execution_count": null,
      "metadata": {
        "id": "G90cC6FeM_fH",
        "outputId": "ebd6cb57-acbe-47a1-cbfe-70dcb654d4d6"
      },
      "outputs": [
        {
          "name": "stdout",
          "output_type": "stream",
          "text": [
            "Celcius: 40\n",
            "fahrenheit:104.0\n"
          ]
        }
      ],
      "source": [
        "celcius= float(input(\"Celcius: \"))\n",
        "\n",
        "F= celcius*1.8 + 32\n",
        "print(\"fahrenheit:\" + str(F))"
      ],
      "id": "G90cC6FeM_fH"
    },
    {
      "cell_type": "markdown",
      "metadata": {
        "id": "0KWJRjhPM_fH"
      },
      "source": [
        "## Listeler (Lists) ve Demet (Tuple)"
      ],
      "id": "0KWJRjhPM_fH"
    },
    {
      "cell_type": "code",
      "execution_count": null,
      "metadata": {
        "id": "_F-f3E6QM_fH"
      },
      "outputs": [],
      "source": [
        "#liste oluşturma\n",
        "notlar= [10,12,14,16]"
      ],
      "id": "_F-f3E6QM_fH"
    },
    {
      "cell_type": "code",
      "execution_count": null,
      "metadata": {
        "id": "KyG5JXz2M_fH",
        "outputId": "14a7035b-3fc8-4a82-ce2b-d7256ec4a114"
      },
      "outputs": [
        {
          "data": {
            "text/plain": [
              "10"
            ]
          },
          "execution_count": 33,
          "metadata": {},
          "output_type": "execute_result"
        }
      ],
      "source": [
        "notlar[0]"
      ],
      "id": "KyG5JXz2M_fH"
    },
    {
      "cell_type": "code",
      "execution_count": null,
      "metadata": {
        "id": "IfyytI5rM_fH",
        "outputId": "4734a68b-caeb-4119-d036-839717348382"
      },
      "outputs": [
        {
          "data": {
            "text/plain": [
              "[10, 12]"
            ]
          },
          "execution_count": 34,
          "metadata": {},
          "output_type": "execute_result"
        }
      ],
      "source": [
        "notlar[:2]"
      ],
      "id": "IfyytI5rM_fH"
    },
    {
      "cell_type": "code",
      "execution_count": null,
      "metadata": {
        "id": "y5EJGU8pM_fI",
        "outputId": "5a64a20b-89ab-402c-fe2d-29fb165a7691"
      },
      "outputs": [
        {
          "data": {
            "text/plain": [
              "list"
            ]
          },
          "execution_count": 31,
          "metadata": {},
          "output_type": "execute_result"
        }
      ],
      "source": [
        "type(notlar)"
      ],
      "id": "y5EJGU8pM_fI"
    },
    {
      "cell_type": "code",
      "execution_count": null,
      "metadata": {
        "id": "Ze97K6AEM_fI"
      },
      "outputs": [],
      "source": [
        "#listelerin içindeki değerler değiştirilebilir"
      ],
      "id": "Ze97K6AEM_fI"
    },
    {
      "cell_type": "code",
      "execution_count": null,
      "metadata": {
        "id": "6hLepla5M_fI",
        "outputId": "b3cbb8a0-a0b7-4dda-ea32-c8fbfd341287"
      },
      "outputs": [
        {
          "data": {
            "text/plain": [
              "[12, 14]"
            ]
          },
          "execution_count": 35,
          "metadata": {},
          "output_type": "execute_result"
        }
      ],
      "source": [
        "notlar[1:3]"
      ],
      "id": "6hLepla5M_fI"
    },
    {
      "cell_type": "code",
      "execution_count": null,
      "metadata": {
        "id": "7osqPAZsM_fI"
      },
      "outputs": [],
      "source": [
        "list=[\"a\",2,\"b\",3]"
      ],
      "id": "7osqPAZsM_fI"
    },
    {
      "cell_type": "code",
      "execution_count": null,
      "metadata": {
        "id": "dPHqa4HjM_fJ",
        "outputId": "bdeaa18f-c074-4400-bc89-bd1f39a4484e"
      },
      "outputs": [
        {
          "data": {
            "text/plain": [
              "['a', 2, 'b', 3]"
            ]
          },
          "execution_count": 37,
          "metadata": {},
          "output_type": "execute_result"
        }
      ],
      "source": [
        "list"
      ],
      "id": "dPHqa4HjM_fJ"
    },
    {
      "cell_type": "code",
      "execution_count": null,
      "metadata": {
        "id": "iDTyDL0qM_fJ",
        "outputId": "7c670b71-128f-410a-d046-a610a6676d62"
      },
      "outputs": [
        {
          "data": {
            "text/plain": [
              "4"
            ]
          },
          "execution_count": 38,
          "metadata": {},
          "output_type": "execute_result"
        }
      ],
      "source": [
        "#listenin uzunluğu\n",
        "\n",
        "len(notlar)"
      ],
      "id": "iDTyDL0qM_fJ"
    },
    {
      "cell_type": "code",
      "execution_count": null,
      "metadata": {
        "id": "CiSOrGXWM_fJ",
        "outputId": "ee9ab587-8a40-44b0-8261-eda13e4561c7"
      },
      "outputs": [
        {
          "data": {
            "text/plain": [
              "16"
            ]
          },
          "execution_count": 39,
          "metadata": {},
          "output_type": "execute_result"
        }
      ],
      "source": [
        "notlar= [10,12,14,16]\n",
        "notlar[3]"
      ],
      "id": "CiSOrGXWM_fJ"
    },
    {
      "cell_type": "code",
      "execution_count": null,
      "metadata": {
        "id": "EL6QjjywM_fJ",
        "outputId": "d2ad50a3-0051-4e73-d438-4c1302710c94"
      },
      "outputs": [
        {
          "data": {
            "text/plain": [
              "16"
            ]
          },
          "execution_count": 40,
          "metadata": {},
          "output_type": "execute_result"
        }
      ],
      "source": [
        "notlar[-1]"
      ],
      "id": "EL6QjjywM_fJ"
    },
    {
      "cell_type": "code",
      "execution_count": null,
      "metadata": {
        "id": "NyU_RliPM_fJ",
        "outputId": "3072c271-d042-4261-a255-f5fc74b6e8a5"
      },
      "outputs": [
        {
          "data": {
            "text/plain": [
              "[10, 12, 14, 16]"
            ]
          },
          "execution_count": 41,
          "metadata": {},
          "output_type": "execute_result"
        }
      ],
      "source": [
        "#tüm listesi getirecek\n",
        "notlar[:]"
      ],
      "id": "NyU_RliPM_fJ"
    },
    {
      "cell_type": "code",
      "execution_count": null,
      "metadata": {
        "id": "jefwAiUAM_fK",
        "outputId": "ce18f0fb-63ca-4b88-aea0-6ba12e800365"
      },
      "outputs": [
        {
          "name": "stdout",
          "output_type": "stream",
          "text": [
            "[100, 12, 14, 16]\n"
          ]
        }
      ],
      "source": [
        "#listenin içindeki değeri değiştirme\n",
        "\n",
        "notlar[0]= 100\n",
        "print(notlar)"
      ],
      "id": "jefwAiUAM_fK"
    },
    {
      "cell_type": "code",
      "execution_count": null,
      "metadata": {
        "id": "TJ7N24KWM_fK",
        "outputId": "c0f97aa6-381a-4c0c-d034-7bf824ae3014"
      },
      "outputs": [
        {
          "data": {
            "text/plain": [
              "[100, 12, 14]"
            ]
          },
          "execution_count": 43,
          "metadata": {},
          "output_type": "execute_result"
        }
      ],
      "source": [
        "notlar[0:3]"
      ],
      "id": "TJ7N24KWM_fK"
    },
    {
      "cell_type": "code",
      "execution_count": null,
      "metadata": {
        "id": "BULccaGnM_fK",
        "outputId": "fe7f54cb-88d7-4fe0-8a0a-f5b3a425b909"
      },
      "outputs": [
        {
          "data": {
            "text/plain": [
              "[30, 40, 50]"
            ]
          },
          "execution_count": 46,
          "metadata": {},
          "output_type": "execute_result"
        }
      ],
      "source": [
        "# 0. 1. ve 2. değerler değişti\n",
        "notlar[0:3]= [30,40,50]\n",
        "notlar"
      ],
      "id": "BULccaGnM_fK"
    },
    {
      "cell_type": "code",
      "execution_count": null,
      "metadata": {
        "id": "rfIXOTOwM_fL",
        "outputId": "1cef1510-d619-4271-e2c2-10333c774473"
      },
      "outputs": [
        {
          "data": {
            "text/plain": [
              "[30, 40, 50, 8, 9]"
            ]
          },
          "execution_count": 47,
          "metadata": {},
          "output_type": "execute_result"
        }
      ],
      "source": [
        "#listeye liste ekleme\n",
        "\n",
        "list2= notlar + [8,9]\n",
        "list2"
      ],
      "id": "rfIXOTOwM_fL"
    },
    {
      "cell_type": "code",
      "execution_count": null,
      "metadata": {
        "id": "MEHEOXwLM_fL",
        "outputId": "9b2cdf5f-40e3-4287-ca6c-ec0582b9a570"
      },
      "outputs": [
        {
          "data": {
            "text/plain": [
              "[30, 40, 50, 8, 9, 200, 1, 2, 3, 200]"
            ]
          },
          "execution_count": 52,
          "metadata": {},
          "output_type": "execute_result"
        }
      ],
      "source": [
        "#append fonksiyonu ile değer eklenir\n",
        "\n",
        "list2.append(200)\n",
        "list2"
      ],
      "id": "MEHEOXwLM_fL"
    },
    {
      "cell_type": "code",
      "execution_count": null,
      "metadata": {
        "id": "X3pH4_A2M_fL"
      },
      "outputs": [],
      "source": [
        "#extend fonksiyonu ile değerler eklenir\n",
        "\n",
        "list2.extend([1,2,3])"
      ],
      "id": "X3pH4_A2M_fL"
    },
    {
      "cell_type": "code",
      "execution_count": null,
      "metadata": {
        "id": "CSobrJpTM_fL",
        "outputId": "af6a9477-66fb-4cb4-9cf0-a826bd17f219"
      },
      "outputs": [
        {
          "data": {
            "text/plain": [
              "[30, 40, 50, 8, 9, 200, 1, 2, 3, 200]"
            ]
          },
          "execution_count": 53,
          "metadata": {},
          "output_type": "execute_result"
        }
      ],
      "source": [
        "list2"
      ],
      "id": "CSobrJpTM_fL"
    },
    {
      "cell_type": "code",
      "execution_count": null,
      "metadata": {
        "id": "bjZIG_FAM_fL",
        "outputId": "84c4993c-e3f3-4cb5-ec20-3053892c3405"
      },
      "outputs": [
        {
          "data": {
            "text/plain": [
              "[30, 40, 50, 8, 9, 200, 1, 2, 3, 200]"
            ]
          },
          "execution_count": 60,
          "metadata": {},
          "output_type": "execute_result"
        }
      ],
      "source": [
        "#listeyi kopyalama copy fonksiyonu ile yapılır\n",
        "\n",
        "list3= list2.copy()\n",
        "\n",
        "list3"
      ],
      "id": "bjZIG_FAM_fL"
    },
    {
      "cell_type": "code",
      "execution_count": null,
      "metadata": {
        "id": "mteR6N-EM_fL"
      },
      "outputs": [],
      "source": [
        "#remove fonksiyoun ile silme (ilk gördüğü istenen değeri siler)\n",
        "list3.remove(30)"
      ],
      "id": "mteR6N-EM_fL"
    },
    {
      "cell_type": "code",
      "execution_count": null,
      "metadata": {
        "id": "jpT-_kVsM_fL",
        "outputId": "9c0fdfac-4f76-4ab6-c760-f5c0e25db2c4"
      },
      "outputs": [
        {
          "data": {
            "text/plain": [
              "[40, 50, 8, 9, 200, 1, 2, 3, 200]"
            ]
          },
          "execution_count": 62,
          "metadata": {},
          "output_type": "execute_result"
        }
      ],
      "source": [
        "list3"
      ],
      "id": "jpT-_kVsM_fL"
    },
    {
      "cell_type": "code",
      "execution_count": null,
      "metadata": {
        "id": "gJ0M4LtFM_fM",
        "outputId": "55fe7b59-6d55-4a46-8bcf-3d9c17190909"
      },
      "outputs": [
        {
          "data": {
            "text/plain": [
              "[40, 50, 8, 9, 1, 2, 3, 200]"
            ]
          },
          "execution_count": 63,
          "metadata": {},
          "output_type": "execute_result"
        }
      ],
      "source": [
        "list3.remove(200)\n",
        "list3"
      ],
      "id": "gJ0M4LtFM_fM"
    },
    {
      "cell_type": "code",
      "execution_count": null,
      "metadata": {
        "id": "Xm5l1fFmM_fM",
        "outputId": "ce5ac3aa-9669-4112-d3ea-6275f7cef3d6"
      },
      "outputs": [
        {
          "data": {
            "text/plain": [
              "1"
            ]
          },
          "execution_count": 65,
          "metadata": {},
          "output_type": "execute_result"
        }
      ],
      "source": [
        "#sayma (30'dan kaç tane var)\n",
        "\n",
        "list3.count(200)"
      ],
      "id": "Xm5l1fFmM_fM"
    },
    {
      "cell_type": "code",
      "execution_count": null,
      "metadata": {
        "id": "DC-928niM_fM",
        "outputId": "1e90adf0-d632-4cc2-ea70-3f7487b63cf5"
      },
      "outputs": [
        {
          "data": {
            "text/plain": [
              "[200, 3, 2, 1, 9, 8, 50, 40]"
            ]
          },
          "execution_count": 66,
          "metadata": {},
          "output_type": "execute_result"
        }
      ],
      "source": [
        "#listeyi ters düz etme reverse()\n",
        "list3.reverse()\n",
        "list3"
      ],
      "id": "DC-928niM_fM"
    },
    {
      "cell_type": "code",
      "execution_count": null,
      "metadata": {
        "id": "-pOob27eM_fM",
        "outputId": "18a4edd0-0bd2-4d0b-ae1b-46ffa44145a8"
      },
      "outputs": [
        {
          "data": {
            "text/plain": [
              "[1, 2, 3, 8, 9, 40, 50, 200]"
            ]
          },
          "execution_count": 67,
          "metadata": {},
          "output_type": "execute_result"
        }
      ],
      "source": [
        "#listeyi küçükten büyüğe sıralama\n",
        "\n",
        "list3.sort()\n",
        "list3"
      ],
      "id": "-pOob27eM_fM"
    },
    {
      "cell_type": "code",
      "execution_count": null,
      "metadata": {
        "id": "0YJwB3s8M_fN"
      },
      "outputs": [],
      "source": [
        "# Demetler (Tuple)\n",
        "\n",
        "#değiştirilemeyen listeler demektir"
      ],
      "id": "0YJwB3s8M_fN"
    },
    {
      "cell_type": "code",
      "execution_count": null,
      "metadata": {
        "id": "yse2rsNBM_fN",
        "outputId": "88a42475-08bd-4d37-9b95-7b12ac906335"
      },
      "outputs": [
        {
          "data": {
            "text/plain": [
              "(1, 2, 3)"
            ]
          },
          "execution_count": 68,
          "metadata": {},
          "output_type": "execute_result"
        }
      ],
      "source": [
        "tuple1= (1,2,3)\n",
        "tuple1"
      ],
      "id": "yse2rsNBM_fN"
    },
    {
      "cell_type": "code",
      "execution_count": null,
      "metadata": {
        "id": "x9pDYUk3M_fO",
        "outputId": "4e6e1516-3554-4ed2-ade3-e80afaf2da7c"
      },
      "outputs": [
        {
          "data": {
            "text/plain": [
              "(1, 2, 3, 'a')"
            ]
          },
          "execution_count": 69,
          "metadata": {},
          "output_type": "execute_result"
        }
      ],
      "source": [
        "tuple2= (1,2,3,\"a\")\n",
        "tuple2"
      ],
      "id": "x9pDYUk3M_fO"
    },
    {
      "cell_type": "code",
      "execution_count": null,
      "metadata": {
        "id": "zxEOhSr0M_fO",
        "outputId": "02cb0bb4-8a97-4217-8841-ccb643f3e645"
      },
      "outputs": [
        {
          "data": {
            "text/plain": [
              "1"
            ]
          },
          "execution_count": 70,
          "metadata": {},
          "output_type": "execute_result"
        }
      ],
      "source": [
        "tuple2[0]"
      ],
      "id": "zxEOhSr0M_fO"
    },
    {
      "cell_type": "markdown",
      "metadata": {
        "id": "XbYfOqcKM_fO"
      },
      "source": [
        "## Dictionary (Sözlükler)"
      ],
      "id": "XbYfOqcKM_fO"
    },
    {
      "cell_type": "code",
      "execution_count": null,
      "metadata": {
        "id": "GF7MAJYOM_fO"
      },
      "outputs": [],
      "source": [
        "#dataframe işlemlerinde map fonksiyonuyla sıkça kullanılmaktadır."
      ],
      "id": "GF7MAJYOM_fO"
    },
    {
      "cell_type": "code",
      "execution_count": null,
      "metadata": {
        "id": "__PQZ_sPM_fO"
      },
      "outputs": [],
      "source": [
        "d= { \"student_1\": 90, \"student_2\": 75, \"student_3\":60 }"
      ],
      "id": "__PQZ_sPM_fO"
    },
    {
      "cell_type": "code",
      "execution_count": null,
      "metadata": {
        "id": "JvYc-OYGM_fP",
        "outputId": "53543a03-a5f0-4fc8-8e72-b42f4b8bd140"
      },
      "outputs": [
        {
          "data": {
            "text/plain": [
              "{'student_1': 90, 'student_2': 75, 'student_3': 60}"
            ]
          },
          "execution_count": 72,
          "metadata": {},
          "output_type": "execute_result"
        }
      ],
      "source": [
        "d"
      ],
      "id": "JvYc-OYGM_fP"
    },
    {
      "cell_type": "code",
      "execution_count": null,
      "metadata": {
        "id": "AaZRXwstM_fP",
        "outputId": "ccf370df-0a9d-4fb0-84ba-44a154753100"
      },
      "outputs": [
        {
          "data": {
            "text/plain": [
              "75"
            ]
          },
          "execution_count": 76,
          "metadata": {},
          "output_type": "execute_result"
        }
      ],
      "source": [
        "#student 2'nin değerine ulaşma\n",
        "d[\"student_2\"]"
      ],
      "id": "AaZRXwstM_fP"
    },
    {
      "cell_type": "code",
      "execution_count": null,
      "metadata": {
        "id": "WeUojB1_M_fP",
        "outputId": "afe812e8-dcd7-4ba4-877e-2ed3b56e3aee"
      },
      "outputs": [
        {
          "data": {
            "text/plain": [
              "60"
            ]
          },
          "execution_count": 77,
          "metadata": {},
          "output_type": "execute_result"
        }
      ],
      "source": [
        "#student 3'un değerine ulaşma\n",
        "d[\"student_3\"]"
      ],
      "id": "WeUojB1_M_fP"
    },
    {
      "cell_type": "code",
      "execution_count": null,
      "metadata": {
        "id": "LYpdZeakM_fP",
        "outputId": "82d39219-108a-4890-973d-d0d971c36f58"
      },
      "outputs": [
        {
          "data": {
            "text/plain": [
              "dict"
            ]
          },
          "execution_count": 78,
          "metadata": {},
          "output_type": "execute_result"
        }
      ],
      "source": [
        "type(d)"
      ],
      "id": "LYpdZeakM_fP"
    },
    {
      "cell_type": "code",
      "execution_count": null,
      "metadata": {
        "id": "pYQAZZnIM_fP"
      },
      "outputs": [],
      "source": [
        "#öğrencilerin 1. ve 2. notları eklenmiştir.\n",
        "notlar= {\"student_1\": [90,62], \"student_2\": [85,75], \"student_3\":[60,58]}"
      ],
      "id": "pYQAZZnIM_fP"
    },
    {
      "cell_type": "code",
      "execution_count": null,
      "metadata": {
        "id": "3meWR0PRM_fQ",
        "outputId": "c2ee04ed-f5a3-4a3a-c61c-4a8e35616efb"
      },
      "outputs": [
        {
          "data": {
            "text/plain": [
              "{'student_1': [90, 62], 'student_2': [85, 75], 'student_3': [60, 58]}"
            ]
          },
          "execution_count": 81,
          "metadata": {},
          "output_type": "execute_result"
        }
      ],
      "source": [
        "notlar"
      ],
      "id": "3meWR0PRM_fQ"
    },
    {
      "cell_type": "code",
      "execution_count": null,
      "metadata": {
        "id": "a6_LfzP-M_fQ",
        "outputId": "4360bf4a-462e-4014-d92d-92c8666bdf98"
      },
      "outputs": [
        {
          "data": {
            "text/plain": [
              "[90, 62]"
            ]
          },
          "execution_count": 83,
          "metadata": {},
          "output_type": "execute_result"
        }
      ],
      "source": [
        "notlar[\"student_1\"]"
      ],
      "id": "a6_LfzP-M_fQ"
    },
    {
      "cell_type": "code",
      "execution_count": null,
      "metadata": {
        "id": "-OMhSdxzM_fQ",
        "outputId": "b328e008-891f-49ff-d091-d652fbefeb86"
      },
      "outputs": [
        {
          "data": {
            "text/plain": [
              "62"
            ]
          },
          "execution_count": 84,
          "metadata": {},
          "output_type": "execute_result"
        }
      ],
      "source": [
        "#student_1 nin 2.notu\n",
        "\n",
        "notlar[\"student_1\"][1]"
      ],
      "id": "-OMhSdxzM_fQ"
    },
    {
      "cell_type": "code",
      "execution_count": null,
      "metadata": {
        "id": "Et_bPlenM_fQ",
        "outputId": "00d85c31-a789-48cf-a583-150d219b932e"
      },
      "outputs": [
        {
          "data": {
            "text/plain": [
              "90"
            ]
          },
          "execution_count": 85,
          "metadata": {},
          "output_type": "execute_result"
        }
      ],
      "source": [
        "#student_1 nin 1.notu\n",
        "\n",
        "notlar[\"student_1\"][0]"
      ],
      "id": "Et_bPlenM_fQ"
    },
    {
      "cell_type": "code",
      "execution_count": null,
      "metadata": {
        "id": "isNyLNlkM_fQ"
      },
      "outputs": [],
      "source": [
        "#student_2 in ilk notuna erişelim"
      ],
      "id": "isNyLNlkM_fQ"
    },
    {
      "cell_type": "code",
      "execution_count": null,
      "metadata": {
        "id": "F8k08vwRM_fQ",
        "outputId": "ce8ecc51-f9cf-4f22-d373-c46c6f764631"
      },
      "outputs": [
        {
          "data": {
            "text/plain": [
              "85"
            ]
          },
          "execution_count": 86,
          "metadata": {},
          "output_type": "execute_result"
        }
      ],
      "source": [
        "notlar[\"student_2\"][0]"
      ],
      "id": "F8k08vwRM_fQ"
    },
    {
      "cell_type": "markdown",
      "metadata": {
        "id": "Ang8BBvwM_fQ"
      },
      "source": [
        "## Set (küme)\n",
        "\n",
        "Bir eleman bir küme içinde tekrardan yazılamayacağından set() fonksiyonu ile duble değerler düşer. Küme işlemleri yapılabilir (fark, birleşim kesişim vs) İndexine erişilmez."
      ],
      "id": "Ang8BBvwM_fQ"
    },
    {
      "cell_type": "code",
      "execution_count": null,
      "metadata": {
        "id": "98HGfPeaM_fR"
      },
      "outputs": [],
      "source": [
        "list1= [1,1,1,2,3,4]"
      ],
      "id": "98HGfPeaM_fR"
    },
    {
      "cell_type": "code",
      "execution_count": null,
      "metadata": {
        "id": "wmTCL70wM_fR"
      },
      "outputs": [],
      "source": [
        "ss= set(list1)"
      ],
      "id": "wmTCL70wM_fR"
    },
    {
      "cell_type": "code",
      "execution_count": null,
      "metadata": {
        "id": "k0Klkn_fM_fR",
        "outputId": "a4816dae-7c24-41a1-e02e-2cb5de5610b5"
      },
      "outputs": [
        {
          "data": {
            "text/plain": [
              "{1, 2, 3, 4}"
            ]
          },
          "execution_count": 89,
          "metadata": {},
          "output_type": "execute_result"
        }
      ],
      "source": [
        "ss"
      ],
      "id": "k0Klkn_fM_fR"
    },
    {
      "cell_type": "code",
      "execution_count": null,
      "metadata": {
        "id": "URu_GriqM_fR",
        "outputId": "47abb697-fc69-4ae9-8006-18ade63c2fa3"
      },
      "outputs": [
        {
          "data": {
            "text/plain": [
              "set"
            ]
          },
          "execution_count": 90,
          "metadata": {},
          "output_type": "execute_result"
        }
      ],
      "source": [
        "type(ss)"
      ],
      "id": "URu_GriqM_fR"
    },
    {
      "cell_type": "code",
      "execution_count": null,
      "metadata": {
        "id": "k3_9uV7DM_fR",
        "outputId": "bf1ac3fd-dba2-4cdc-9770-73eeaa15b507"
      },
      "outputs": [
        {
          "data": {
            "text/plain": [
              "{1, 2, 3, 4, 5}"
            ]
          },
          "execution_count": 91,
          "metadata": {},
          "output_type": "execute_result"
        }
      ],
      "source": [
        "#set'e ekleme yapmak için add fonks. kullanılır.\n",
        "ss.add(5)\n",
        "ss"
      ],
      "id": "k3_9uV7DM_fR"
    },
    {
      "cell_type": "code",
      "execution_count": null,
      "metadata": {
        "id": "iRBHDSVfM_fR",
        "outputId": "4177eece-5339-41a3-b075-7ffe0020b663"
      },
      "outputs": [
        {
          "data": {
            "text/plain": [
              "{1, 2, 3, 4}"
            ]
          },
          "execution_count": 92,
          "metadata": {},
          "output_type": "execute_result"
        }
      ],
      "source": [
        "#eleman çıkarmak için remove fonks kullanılır.\n",
        "\n",
        "ss.remove(5)\n",
        "ss"
      ],
      "id": "iRBHDSVfM_fR"
    },
    {
      "cell_type": "code",
      "execution_count": null,
      "metadata": {
        "id": "Q0ZgLmGfM_fR",
        "outputId": "ca3867b6-6eec-4e01-e31d-52a3e99068e5"
      },
      "outputs": [
        {
          "data": {
            "text/plain": [
              "{10, 20, 30}"
            ]
          },
          "execution_count": 93,
          "metadata": {},
          "output_type": "execute_result"
        }
      ],
      "source": [
        "#set oluşturma\n",
        "s1= set([10,20,30,30])\n",
        "s1"
      ],
      "id": "Q0ZgLmGfM_fR"
    },
    {
      "cell_type": "code",
      "execution_count": null,
      "metadata": {
        "id": "mfbUt2EyM_fR",
        "outputId": "3f4768b4-c689-45aa-80ac-f7a2441f79e5"
      },
      "outputs": [
        {
          "data": {
            "text/plain": [
              "{20, 30, 40}"
            ]
          },
          "execution_count": 94,
          "metadata": {},
          "output_type": "execute_result"
        }
      ],
      "source": [
        "s2= set([20,30,30,40])\n",
        "s2"
      ],
      "id": "mfbUt2EyM_fR"
    },
    {
      "cell_type": "code",
      "execution_count": null,
      "metadata": {
        "id": "H4uyL_moM_fR",
        "outputId": "77595852-4fd3-4c01-d919-a9ecb300969b"
      },
      "outputs": [
        {
          "data": {
            "text/plain": [
              "{10}"
            ]
          },
          "execution_count": 95,
          "metadata": {},
          "output_type": "execute_result"
        }
      ],
      "source": [
        "#s1 de olup s2 de olmayan\n",
        "s1 - s2"
      ],
      "id": "H4uyL_moM_fR"
    },
    {
      "cell_type": "code",
      "execution_count": null,
      "metadata": {
        "id": "gwZHl7ozM_fS",
        "outputId": "096a596e-6608-48bb-d4d8-454948a21411"
      },
      "outputs": [
        {
          "data": {
            "text/plain": [
              "{40}"
            ]
          },
          "execution_count": 96,
          "metadata": {},
          "output_type": "execute_result"
        }
      ],
      "source": [
        "#s2 de olup s1 de olmayan\n",
        "s2 - s1"
      ],
      "id": "gwZHl7ozM_fS"
    },
    {
      "cell_type": "code",
      "execution_count": null,
      "metadata": {
        "id": "-KekJdE1M_fS",
        "outputId": "fb6efdbd-cfe5-45b2-e979-4bb6750071cf"
      },
      "outputs": [
        {
          "data": {
            "text/plain": [
              "{20, 30}"
            ]
          },
          "execution_count": 97,
          "metadata": {},
          "output_type": "execute_result"
        }
      ],
      "source": [
        "#kesişimleri\n",
        "\n",
        "s1.intersection(s2)"
      ],
      "id": "-KekJdE1M_fS"
    },
    {
      "cell_type": "markdown",
      "metadata": {
        "id": "D8umFlSeM_fS"
      },
      "source": [
        "# Boolean Operatörler"
      ],
      "id": "D8umFlSeM_fS"
    },
    {
      "cell_type": "markdown",
      "metadata": {
        "id": "I-NINpTFM_fS"
      },
      "source": [
        "* Boolean bir karşılaştırmanın true veya false olduğunu kontrol eder.\n",
        "\n",
        "- Karşılaştırma operatörleri :\n",
        "\n",
        "      x == y               # x eşittir y\n",
        "      x != y               # x eşit değildir y\n",
        "      x > y                # x büyüktür y\n",
        "      x < y                # x küçüktür y\n",
        "      x >= y               # x büyük veya eşittir y\n",
        "      x <= y               # x küçük veya eşittir y\n",
        "      x is y               # x aynıdır y\n",
        "      x is not y           # x aynı değildir y"
      ],
      "id": "I-NINpTFM_fS"
    },
    {
      "cell_type": "code",
      "execution_count": null,
      "metadata": {
        "id": "etDGlqVJM_fS",
        "outputId": "a70a02c1-bbb3-4d17-b7cc-73989833e121"
      },
      "outputs": [
        {
          "data": {
            "text/plain": [
              "False"
            ]
          },
          "execution_count": 98,
          "metadata": {},
          "output_type": "execute_result"
        }
      ],
      "source": [
        "3 ==4"
      ],
      "id": "etDGlqVJM_fS"
    },
    {
      "cell_type": "code",
      "execution_count": null,
      "metadata": {
        "id": "mTrqRqtTM_fS",
        "outputId": "a9bd20e4-b814-4e05-b4aa-da1409f57751"
      },
      "outputs": [
        {
          "data": {
            "text/plain": [
              "True"
            ]
          },
          "execution_count": 99,
          "metadata": {},
          "output_type": "execute_result"
        }
      ],
      "source": [
        "3!=4"
      ],
      "id": "mTrqRqtTM_fS"
    },
    {
      "cell_type": "code",
      "execution_count": null,
      "metadata": {
        "id": "CkNLM-87M_fS",
        "outputId": "019c2500-7bf8-481d-e097-3cb6647528de"
      },
      "outputs": [
        {
          "data": {
            "text/plain": [
              "True"
            ]
          },
          "execution_count": 100,
          "metadata": {},
          "output_type": "execute_result"
        }
      ],
      "source": [
        "4>=4"
      ],
      "id": "CkNLM-87M_fS"
    },
    {
      "cell_type": "code",
      "execution_count": null,
      "metadata": {
        "id": "ViIfNqp8M_fS",
        "outputId": "3ae636d3-9cbb-4ceb-98b9-aa9759aa7b84"
      },
      "outputs": [
        {
          "data": {
            "text/plain": [
              "False"
            ]
          },
          "execution_count": 101,
          "metadata": {},
          "output_type": "execute_result"
        }
      ],
      "source": [
        "3 is 4"
      ],
      "id": "ViIfNqp8M_fS"
    },
    {
      "cell_type": "code",
      "execution_count": null,
      "metadata": {
        "id": "yPZxhkCBM_fS",
        "outputId": "0396f8c4-07d1-410d-abd3-18d7d39e69dc"
      },
      "outputs": [
        {
          "data": {
            "text/plain": [
              "False"
            ]
          },
          "execution_count": 102,
          "metadata": {},
          "output_type": "execute_result"
        }
      ],
      "source": [
        "# tersini yapar not fonks.\n",
        "not(3<4)"
      ],
      "id": "yPZxhkCBM_fS"
    },
    {
      "cell_type": "code",
      "execution_count": null,
      "metadata": {
        "id": "uu0VzvJ-M_fT",
        "outputId": "6ebba964-c663-4f9c-9532-bc84578db2af"
      },
      "outputs": [
        {
          "data": {
            "text/plain": [
              "False"
            ]
          },
          "execution_count": 103,
          "metadata": {},
          "output_type": "execute_result"
        }
      ],
      "source": [
        "\"Ayşe\" is \"ayşe\""
      ],
      "id": "uu0VzvJ-M_fT"
    },
    {
      "cell_type": "code",
      "execution_count": null,
      "metadata": {
        "id": "tm_4D4e9M_fT",
        "outputId": "c614cb4e-9c10-46fe-95bf-3e93147a4a8f"
      },
      "outputs": [
        {
          "data": {
            "text/plain": [
              "True"
            ]
          },
          "execution_count": 104,
          "metadata": {},
          "output_type": "execute_result"
        }
      ],
      "source": [
        "\"Ayşe\" is \"Ayşe\""
      ],
      "id": "tm_4D4e9M_fT"
    },
    {
      "cell_type": "markdown",
      "metadata": {
        "id": "GQ895M2gM_fT"
      },
      "source": [
        "## Mantıksal Operatörler"
      ],
      "id": "GQ895M2gM_fT"
    },
    {
      "cell_type": "markdown",
      "metadata": {
        "id": "2CGxjZ5dM_fT"
      },
      "source": [
        "3 çeşit mantıksal operatör vardır: and, or, ve not."
      ],
      "id": "2CGxjZ5dM_fT"
    },
    {
      "cell_type": "markdown",
      "metadata": {
        "id": "y_N--DkcM_fT"
      },
      "source": [
        "#### x < 0 and x > 10\n",
        "\n",
        "x 0'dan küçükse ve 10'dan büyükse true döner\n",
        "\n",
        "\n",
        "#### n%2 == 0 or n%3 == 0 koşullarından biri doğru ise true döner.\n",
        "\n",
        "not (x > y) true döner, eğer x > y false ise. veya tam tersi durum söz konusudur."
      ],
      "id": "y_N--DkcM_fT"
    },
    {
      "cell_type": "code",
      "execution_count": null,
      "metadata": {
        "id": "Wq7-sQWUM_fT",
        "outputId": "c3583786-a688-4fc8-d7f0-fefe99d3318f"
      },
      "outputs": [
        {
          "data": {
            "text/plain": [
              "True"
            ]
          },
          "execution_count": 105,
          "metadata": {},
          "output_type": "execute_result"
        }
      ],
      "source": [
        "3<4 and 4<5"
      ],
      "id": "Wq7-sQWUM_fT"
    },
    {
      "cell_type": "code",
      "execution_count": null,
      "metadata": {
        "id": "8TlcmD-sM_fT",
        "outputId": "2e70a808-7099-4db1-f50c-5d76cef4751d"
      },
      "outputs": [
        {
          "data": {
            "text/plain": [
              "False"
            ]
          },
          "execution_count": 106,
          "metadata": {},
          "output_type": "execute_result"
        }
      ],
      "source": [
        "3<4 and 4>5"
      ],
      "id": "8TlcmD-sM_fT"
    },
    {
      "cell_type": "code",
      "execution_count": null,
      "metadata": {
        "id": "JA_7q5YNM_fU",
        "outputId": "492d4a7e-9150-420f-86e7-dc6bc725f41d"
      },
      "outputs": [
        {
          "data": {
            "text/plain": [
              "True"
            ]
          },
          "execution_count": 108,
          "metadata": {},
          "output_type": "execute_result"
        }
      ],
      "source": [
        "3<4 or 4>5"
      ],
      "id": "JA_7q5YNM_fU"
    },
    {
      "cell_type": "code",
      "execution_count": null,
      "metadata": {
        "id": "nDh6ga3BM_fU",
        "outputId": "be93310a-4cab-4da8-b83d-e1b48a98276c"
      },
      "outputs": [
        {
          "data": {
            "text/plain": [
              "True"
            ]
          },
          "execution_count": 109,
          "metadata": {},
          "output_type": "execute_result"
        }
      ],
      "source": [
        "n= 8\n",
        "n%2 == 0 or n%3 == 0"
      ],
      "id": "nDh6ga3BM_fU"
    },
    {
      "cell_type": "code",
      "execution_count": null,
      "metadata": {
        "id": "6l--PKEgM_fU",
        "outputId": "cb15bda6-dcea-4ea1-8694-593812a205c9"
      },
      "outputs": [
        {
          "data": {
            "text/plain": [
              "False"
            ]
          },
          "execution_count": 110,
          "metadata": {},
          "output_type": "execute_result"
        }
      ],
      "source": [
        "n= 8\n",
        "n%2 == 0 and n%3 == 0"
      ],
      "id": "6l--PKEgM_fU"
    },
    {
      "cell_type": "code",
      "execution_count": null,
      "metadata": {
        "id": "-W77wUalM_fU",
        "outputId": "451ef912-c0c7-4837-eabe-6ef2f815fe4d"
      },
      "outputs": [
        {
          "data": {
            "text/plain": [
              "True"
            ]
          },
          "execution_count": 111,
          "metadata": {},
          "output_type": "execute_result"
        }
      ],
      "source": [
        "x=5\n",
        "y=8\n",
        "\n",
        "x<y"
      ],
      "id": "-W77wUalM_fU"
    },
    {
      "cell_type": "code",
      "execution_count": null,
      "metadata": {
        "id": "gMyKK31uM_fU",
        "outputId": "82390180-2fa8-4eb7-f162-aa9602ff2b72"
      },
      "outputs": [
        {
          "data": {
            "text/plain": [
              "False"
            ]
          },
          "execution_count": 112,
          "metadata": {},
          "output_type": "execute_result"
        }
      ],
      "source": [
        "not(x<y)"
      ],
      "id": "gMyKK31uM_fU"
    },
    {
      "cell_type": "markdown",
      "metadata": {
        "id": "5xy5U3bBM_fU"
      },
      "source": [
        "## IF - ELSE yapıları"
      ],
      "id": "5xy5U3bBM_fU"
    },
    {
      "cell_type": "markdown",
      "metadata": {
        "id": "cb8Q48stM_fU"
      },
      "source": [
        "Koşullu ifadeler için if- else kullanılır."
      ],
      "id": "cb8Q48stM_fU"
    },
    {
      "cell_type": "code",
      "execution_count": null,
      "metadata": {
        "id": "ZKOl_3ZkM_fU"
      },
      "outputs": [],
      "source": [
        "gelir=10\n",
        "gider=20"
      ],
      "id": "ZKOl_3ZkM_fU"
    },
    {
      "cell_type": "code",
      "execution_count": null,
      "metadata": {
        "id": "6D0UanUaM_fV",
        "outputId": "69e3d8d9-ecfc-486e-96a2-042a4814e861"
      },
      "outputs": [
        {
          "name": "stdout",
          "output_type": "stream",
          "text": [
            "zarar\n"
          ]
        }
      ],
      "source": [
        "if gelir>gider:\n",
        "    print(\"kar\")\n",
        "else:\n",
        "    print(\"zarar\")\n"
      ],
      "id": "6D0UanUaM_fV"
    },
    {
      "cell_type": "code",
      "execution_count": null,
      "metadata": {
        "id": "so3EIzjsM_fV",
        "outputId": "88c5e277-9905-43aa-bb5b-ee24fd713c91"
      },
      "outputs": [
        {
          "name": "stdout",
          "output_type": "stream",
          "text": [
            "zarar\n"
          ]
        }
      ],
      "source": [
        "if gelir>gider:\n",
        "    print(\"kar\")\n",
        "\n",
        "elif gelir==gider:\n",
        "    print(\"ne kar ne zarar\")\n",
        "\n",
        "else:\n",
        "    print(\"zarar\")"
      ],
      "id": "so3EIzjsM_fV"
    },
    {
      "cell_type": "code",
      "execution_count": null,
      "metadata": {
        "id": "dxBmnLw2M_fV",
        "outputId": "ef373d4e-a56f-4a73-9ba6-17507b16f0b3"
      },
      "outputs": [
        {
          "name": "stdout",
          "output_type": "stream",
          "text": [
            "lütfen gelirinizi giriniz: 50\n",
            "lütfen giderinizi giriniz: 60\n",
            "zarar\n"
          ]
        }
      ],
      "source": [
        "gelir= int(input(\"lütfen gelirinizi giriniz: \"))\n",
        "gider= int(input(\"lütfen giderinizi giriniz: \"))\n",
        "\n",
        "if gelir>gider:\n",
        "    print(\"kar\")\n",
        "\n",
        "elif gelir==gider:\n",
        "    print(\"ne kar ne zarar\")\n",
        "\n",
        "else:\n",
        "    print(\"zarar\")"
      ],
      "id": "dxBmnLw2M_fV"
    },
    {
      "cell_type": "code",
      "execution_count": null,
      "metadata": {
        "id": "CxckshMnM_fV",
        "outputId": "3429f8f9-91fb-4261-fffe-6cb6a58f01a3"
      },
      "outputs": [
        {
          "name": "stdout",
          "output_type": "stream",
          "text": [
            "lütfen yaşınızı giriniz: -5\n",
            "mekana giremezsin, go home\n"
          ]
        }
      ],
      "source": [
        "#yaş 18den küçük \"mekana giremezsin, go home\" eğer 18den büyük ve eşitse \"buyrunuz\"\n",
        "\n",
        "yas= int(input(\"lütfen yaşınızı giriniz: \"))\n",
        "if yas>=18:\n",
        "    print(\"buyrunuz\")\n",
        "else:\n",
        "    print(\"mekana giremezsin, go home\")"
      ],
      "id": "CxckshMnM_fV"
    },
    {
      "cell_type": "code",
      "execution_count": null,
      "metadata": {
        "id": "uFd_-LW1M_fV",
        "outputId": "c035bde4-14f4-45f6-997f-e19abfc34391"
      },
      "outputs": [
        {
          "name": "stdout",
          "output_type": "stream",
          "text": [
            "lütfen yaşınızı giriniz: -8\n",
            "lütfen yaşınızı giriniz: 20\n",
            "buyrunuz\n"
          ]
        }
      ],
      "source": [
        "#negatif değer için tekrar yaş isteyerek if kurduk.\n",
        "yas= int(input(\"lütfen yaşınızı giriniz: \"))\n",
        "\n",
        "if yas<0:\n",
        "    yas= int(input(\"lütfen yaşınızı giriniz: \"))\n",
        "if yas>=18:\n",
        "    print(\"buyrunuz\")\n",
        "else:\n",
        "    print(\"mekana giremezsin, go home\")"
      ],
      "id": "uFd_-LW1M_fV"
    },
    {
      "cell_type": "code",
      "execution_count": null,
      "metadata": {
        "id": "GYakAwFwM_fV"
      },
      "outputs": [],
      "source": [
        "##ödevler --- ilk değerler kullanıcıdan alınacak\n",
        "\n",
        "# girilen sayının pozitif, negatif veya sıfır olduğunu yazan koşul\n",
        "# girilen sayının tek mi çift mi olduğunu yazan koşul\n",
        "# Girilen nota göre harf aralığını yazan koşul (80-100 A, 60-80 B vs.)\n",
        "# girilen ismin karakter sayısı 5den büyükse \"uzun bir isminiz var\" değilse ismini yazsın"
      ],
      "id": "GYakAwFwM_fV"
    },
    {
      "cell_type": "code",
      "execution_count": null,
      "metadata": {
        "id": "BRN0OhdYM_fV",
        "outputId": "00534fb2-5db8-4ece-9e45-f863ba6f6099"
      },
      "outputs": [
        {
          "name": "stdout",
          "output_type": "stream",
          "text": [
            "şifreyi giriniz: mehmet\n",
            "bravo\n"
          ]
        }
      ],
      "source": [
        "# girilen şifrenin mehmet olması durumunda bravo yazsın, değilse tekrar denesin\n",
        "\n",
        "password= str(input(\"şifreyi giriniz: \"))\n",
        "\n",
        "if password== \"mehmet\":\n",
        "    print(\"bravo\")\n",
        "else:\n",
        "    print(\"lütfen tekrar deneyiniz\")"
      ],
      "id": "BRN0OhdYM_fV"
    },
    {
      "cell_type": "code",
      "execution_count": null,
      "metadata": {
        "id": "IYdV9FyGM_fV",
        "outputId": "17b2fc20-33b8-4c42-dc8e-9f8043e11776"
      },
      "outputs": [
        {
          "name": "stdout",
          "output_type": "stream",
          "text": [
            "şifreyi giriniz: 5\n"
          ]
        }
      ],
      "source": [
        "isim= str(input(\"şifreyi giriniz: \"))"
      ],
      "id": "IYdV9FyGM_fV"
    },
    {
      "cell_type": "code",
      "execution_count": null,
      "metadata": {
        "id": "kW3F6lhtM_fV"
      },
      "outputs": [],
      "source": [],
      "id": "kW3F6lhtM_fV"
    },
    {
      "cell_type": "code",
      "execution_count": null,
      "metadata": {
        "id": "u7oiGXd1M_fW"
      },
      "outputs": [],
      "source": [],
      "id": "u7oiGXd1M_fW"
    },
    {
      "cell_type": "code",
      "execution_count": null,
      "metadata": {
        "id": "7nKbyTYGM_fW"
      },
      "outputs": [],
      "source": [],
      "id": "7nKbyTYGM_fW"
    },
    {
      "cell_type": "code",
      "execution_count": null,
      "metadata": {
        "id": "FrbjJAtwM_fW"
      },
      "outputs": [],
      "source": [],
      "id": "FrbjJAtwM_fW"
    },
    {
      "cell_type": "code",
      "execution_count": null,
      "metadata": {
        "id": "De1XprYZM_fW"
      },
      "outputs": [],
      "source": [],
      "id": "De1XprYZM_fW"
    }
  ],
  "metadata": {
    "kernelspec": {
      "display_name": "Python 3",
      "language": "python",
      "name": "python3"
    },
    "language_info": {
      "codemirror_mode": {
        "name": "ipython",
        "version": 3
      },
      "file_extension": ".py",
      "mimetype": "text/x-python",
      "name": "python",
      "nbconvert_exporter": "python",
      "pygments_lexer": "ipython3",
      "version": "3.7.6"
    },
    "colab": {
      "provenance": [],
      "toc_visible": true
    }
  },
  "nbformat": 4,
  "nbformat_minor": 5
}